{
 "cells": [
  {
   "cell_type": "markdown",
   "metadata": {},
   "source": [
    "## Course Assignment Instructions\n",
    "You should have Python (version 3.8 or later) and Jupyter Notebook installed to complete this assignment. You will write code in the empty cell/cells below the problem. While most of this will be a programming assignment, some questions will ask you to \"write a few sentences\" in markdown cells. \n",
    "\n",
    "Submission Instructions:\n",
    "\n",
    "Create a labs directory in your personal class repository (e.g., located in your home directory)\n",
    "Clone the class repository\n",
    "Copy this Jupyter notebook file (.ipynb) into your repo/labs directory\n",
    "Make your edits, commit changes, and push to your repository\n",
    "All submissions must be pushed before the due date to avoid late penalties. \n",
    "\n",
    "Labs are graded out of a 100 pts. Each day late is -5. For a max penalty of -50 after 10 days. From there you may submit the lab anytime before the semester ends for a max score of 50.  \n",
    "\n",
    "Lab 1 is due on 2/10/25"
   ]
  },
  {
   "cell_type": "markdown",
   "metadata": {},
   "source": [
    "* Install the numpy, scipy, statsmodels, and pandas packages (we will be using these throughout the semester)"
   ]
  },
  {
   "cell_type": "code",
   "execution_count": null,
   "metadata": {},
   "outputs": [],
   "source": []
  },
  {
   "cell_type": "markdown",
   "metadata": {},
   "source": [
    "* Print out the numerical constant pi with ten digits after the decimal point using constant 'pi'. You will need to use the math module in python for this. "
   ]
  },
  {
   "cell_type": "code",
   "execution_count": null,
   "metadata": {
    "colab": {
     "base_uri": "https://localhost:8080/"
    },
    "id": "bnvDOejmkGVm",
    "outputId": "4c897e58-b256-48ec-8dd4-6a6b1ba72114"
   },
   "outputs": [],
   "source": []
  },
  {
   "cell_type": "markdown",
   "metadata": {
    "id": "Uavy5yJm7sLm"
   },
   "source": [
    "* Sum up the first 103 terms of the series 1 + 1/2 + 1/4 + 1/8 + ... use base python"
   ]
  },
  {
   "cell_type": "code",
   "execution_count": null,
   "metadata": {
    "colab": {
     "base_uri": "https://localhost:8080/"
    },
    "id": "xRoIK9LW70-z",
    "outputId": "fb7d981e-d80e-4a2b-cb5a-9037d1a8bba9"
   },
   "outputs": [],
   "source": []
  },
  {
   "cell_type": "markdown",
   "metadata": {},
   "source": [
    "using numpy"
   ]
  },
  {
   "cell_type": "code",
   "execution_count": null,
   "metadata": {
    "colab": {
     "base_uri": "https://localhost:8080/"
    },
    "id": "rn-pDnETQO7H",
    "outputId": "64add9d3-6314-46fc-a953-60e628a5dcf6"
   },
   "outputs": [],
   "source": []
  },
  {
   "cell_type": "markdown",
   "metadata": {
    "id": "oQEj31GARHuP"
   },
   "source": [
    " * The issue here arises because NumPy's 2 ** np.arange(103) may overflow for very large exponents, leading to incorrect results. NumPy uses fixed-precision data types, which can cause problems when dealing with extremely large numbers.  * The issue here arises because NumPy's 2 ** np.arange(103) may overflow for very large exponents, leading to incorrect results. NumPy uses fixed-precision data types, which can cause problems when dealing with extremely large numbers."
   ]
  },
  {
   "cell_type": "code",
   "execution_count": null,
   "metadata": {
    "colab": {
     "base_uri": "https://localhost:8080/"
    },
    "id": "4znUgZRjQwoD",
    "outputId": "d580e891-8291-4c4e-9abe-ff987a806201"
   },
   "outputs": [],
   "source": []
  },
  {
   "cell_type": "markdown",
   "metadata": {
    "id": "p7X2hTJWRtuo"
   },
   "source": [
    "* Find the product of the first 387 terms of `1 * 1/2 * 1/4 * 1/8 *` ..."
   ]
  },
  {
   "cell_type": "markdown",
   "metadata": {
    "id": "fy1ZDTxJSL7_"
   },
   "source": [
    "using base python"
   ]
  },
  {
   "cell_type": "code",
   "execution_count": null,
   "metadata": {
    "colab": {
     "base_uri": "https://localhost:8080/"
    },
    "id": "jp0AKiCiRxB9",
    "outputId": "d025dd82-9434-463f-f228-9d42d15ef398"
   },
   "outputs": [],
   "source": [
    "\n"
   ]
  },
  {
   "cell_type": "markdown",
   "metadata": {
    "id": "EPMSU8pySJtw"
   },
   "source": [
    "using numpy"
   ]
  },
  {
   "cell_type": "code",
   "execution_count": null,
   "metadata": {
    "colab": {
     "base_uri": "https://localhost:8080/"
    },
    "id": "A2ctxQ1iRvG7",
    "outputId": "86d4b076-a029-4342-a1fb-6e1f0ac53c12"
   },
   "outputs": [],
   "source": []
  },
  {
   "cell_type": "markdown",
   "metadata": {
    "id": "B4VQOLKYTPCj"
   },
   "source": [
    "Is this answer *exactly* correct?\n",
    "\n",
    "No, this answer is not exactly correct. The number should be positive although very small and the answer generated is a result of numerical underflow."
   ]
  },
  {
   "cell_type": "markdown",
   "metadata": {
    "id": "zFA5JJfzTJtX"
   },
   "source": [
    "* Figure out a means to express the answer more exactly. Not compute exactly, but express more exactly."
   ]
  },
  {
   "cell_type": "code",
   "execution_count": null,
   "metadata": {
    "colab": {
     "base_uri": "https://localhost:8080/"
    },
    "id": "VIjX6xzAS-gf",
    "outputId": "9c704c4c-5656-4106-f969-0ebc7664222f"
   },
   "outputs": [],
   "source": [
    "import math as m\n"
   ]
  },
  {
   "cell_type": "markdown",
   "metadata": {},
   "source": [
    "* using numpy ... Hint: use the `log` and `sum` functions in numpy"
   ]
  },
  {
   "cell_type": "code",
   "execution_count": null,
   "metadata": {
    "colab": {
     "base_uri": "https://localhost:8080/"
    },
    "id": "GUqiwC3nS-oh",
    "outputId": "a98e5f2b-8391-40c6-a1a4-7535d1b971c9"
   },
   "outputs": [],
   "source": []
  },
  {
   "cell_type": "markdown",
   "metadata": {
    "id": "aykGSWDVVIkE"
   },
   "source": [
    "* Create the sequence `x = [Inf, 20, 18, ..., -20]`."
   ]
  },
  {
   "cell_type": "markdown",
   "metadata": {
    "id": "mLlQPD-VVCle"
   },
   "source": [
    "Pure python"
   ]
  },
  {
   "cell_type": "code",
   "execution_count": null,
   "metadata": {
    "colab": {
     "base_uri": "https://localhost:8080/"
    },
    "id": "S8Mnf42kU5D3",
    "outputId": "b69d220c-b166-4f37-b013-067e1adaf73b"
   },
   "outputs": [],
   "source": [
    "# Create the sequence\n",
    "x = [float('inf')] + list(range(20, -21, -2))\n",
    "\n",
    "# Print the result\n",
    "print(x)"
   ]
  },
  {
   "cell_type": "markdown",
   "metadata": {
    "id": "ANVsEVzkU_N6"
   },
   "source": [
    "Using numpy"
   ]
  },
  {
   "cell_type": "code",
   "execution_count": null,
   "metadata": {
    "colab": {
     "base_uri": "https://localhost:8080/"
    },
    "id": "pi0uutpUU5NA",
    "outputId": "db7fab14-b6d7-4619-9527-3b2aee8be37a"
   },
   "outputs": [],
   "source": [
    "# Create the sequence\n",
    "x = [float('inf')] + list(np.arange(20, -22, -2))\n",
    "\n",
    "# Print the result\n",
    "print(x)"
   ]
  },
  {
   "cell_type": "markdown",
   "metadata": {
    "id": "8cu3L5kJVNU3"
   },
   "source": [
    "*   Create the sequence `x = [log_3(Inf), log_3(100), log_3(98), ... log_3(-20)]` ... Use `log` from numpy."
   ]
  },
  {
   "cell_type": "code",
   "execution_count": null,
   "metadata": {
    "colab": {
     "base_uri": "https://localhost:8080/"
    },
    "id": "vud6_UONVRH8",
    "outputId": "d659e652-a527-4661-d651-1c23b6b61e88"
   },
   "outputs": [],
   "source": []
  },
  {
   "cell_type": "markdown",
   "metadata": {
    "id": "Zb1X0R2Nav9g"
   },
   "source": [
    "* Create a vector of booleans where the entry is true if `x[i]` is positive and finite. Use `&` from base python along with `isnan` and `isinfinite` from numpy"
   ]
  },
  {
   "cell_type": "code",
   "execution_count": null,
   "metadata": {
    "colab": {
     "base_uri": "https://localhost:8080/"
    },
    "id": "4Q_oZqgGViSO",
    "outputId": "93139bc4-3567-4408-b40e-34fb7fccdc0b"
   },
   "outputs": [],
   "source": [
    "y = ~np.isnan(x) & np.isfinite(x) & (x > 0)\n",
    "\n",
    "print(y)"
   ]
  },
  {
   "cell_type": "markdown",
   "metadata": {
    "id": "9mtTSGAua4kJ"
   },
   "source": [
    "* Locate the indices of the non-real numbers in this vector. Numpy has a `where` function in lieu of R's `which`"
   ]
  },
  {
   "cell_type": "code",
   "execution_count": null,
   "metadata": {
    "colab": {
     "base_uri": "https://localhost:8080/"
    },
    "id": "ROPylzDFaQ6C",
    "outputId": "dc23b4b7-acc9-49af-b2d0-19eb5ead974c"
   },
   "outputs": [],
   "source": []
  },
  {
   "cell_type": "markdown",
   "metadata": {
    "id": "b0UOuLWlbCrX"
   },
   "source": [
    "* Locate the indices of the infinite quantities in this vector using `where` and `isinf` from numpy."
   ]
  },
  {
   "cell_type": "code",
   "execution_count": null,
   "metadata": {
    "colab": {
     "base_uri": "https://localhost:8080/"
    },
    "id": "qxleb46Kah7O",
    "outputId": "bebf0016-acce-4df3-9317-faa1613e8dad"
   },
   "outputs": [],
   "source": []
  },
  {
   "cell_type": "markdown",
   "metadata": {
    "id": "jy81AOKHbdtI"
   },
   "source": [
    "* Locate the indices of the min and max in this vector. Hint: use the `arg.min` and `arg.max` functions from numpy"
   ]
  },
  {
   "cell_type": "code",
   "execution_count": null,
   "metadata": {
    "colab": {
     "base_uri": "https://localhost:8080/"
    },
    "id": "5aLvgov5bJ0D",
    "outputId": "880b4174-f433-47a3-bb1d-1caf83b97469"
   },
   "outputs": [],
   "source": []
  },
  {
   "cell_type": "markdown",
   "metadata": {
    "id": "oRIpi-b2b9KD"
   },
   "source": [
    "* Count the number of unique values in `x`. Use `unique` from numpy."
   ]
  },
  {
   "cell_type": "code",
   "execution_count": null,
   "metadata": {
    "colab": {
     "base_uri": "https://localhost:8080/"
    },
    "id": "no85_We5bry1",
    "outputId": "af1283fa-e34e-4472-bcb2-72210ff9eda6"
   },
   "outputs": [],
   "source": []
  },
  {
   "cell_type": "markdown",
   "metadata": {
    "id": "oHRN70mTcHsB"
   },
   "source": [
    "* Cast `x` to a factor. Do the number of levels make sense? Should be 53 unique values. Use `categorical` from pandas."
   ]
  },
  {
   "cell_type": "code",
   "execution_count": null,
   "metadata": {
    "colab": {
     "base_uri": "https://localhost:8080/"
    },
    "id": "nduGObKldhd9",
    "outputId": "1abf3207-ffe6-4931-8c49-e1182162afa0"
   },
   "outputs": [],
   "source": [
    "import pandas as pd\n",
    "\n",
    "# Cast x to a categorical (similar to as.factor(x) in R)\n",
    "x_factor = pd.Categorical(x)\n",
    "\n",
    "# Check the unique levels (categories)\n",
    "levels = x_factor.categories\n",
    "num_levels = len(levels)\n",
    "\n",
    "print(f\"Factor levels: {levels}\")\n",
    "print(f\"Number of levels: {num_levels}\")"
   ]
  },
  {
   "cell_type": "markdown",
   "metadata": {
    "id": "IorrCNzsdnSe"
   },
   "source": [
    "* In Python, using pandas, NaN is not treated as a level in a categorical type by default. Pandas does not allow NaN to be a category. To include NaN as a level, you need to explicitly handle it by filling them with a placeholder value (like \"NaN\" or a specific number) before making the data categorical. Use `categorical` and `isna` from pandas."
   ]
  },
  {
   "cell_type": "code",
   "execution_count": null,
   "metadata": {
    "colab": {
     "base_uri": "https://localhost:8080/"
    },
    "id": "hSd4wayScFtz",
    "outputId": "02f6d619-363c-49c3-e4e7-edd651a8d2c7"
   },
   "outputs": [],
   "source": [
    "# Replace NaN with a placeholder value (e.g., 'NaN')\n",
    "x_filled = [val if not pd.isna(val) else 'NaN' for val in x]\n",
    "\n",
    "# Convert to categorical\n",
    "x_factor = pd.Categorical(x_filled)\n",
    "\n",
    "# Check the unique levels (including 'NaN' as a level)\n",
    "factor_levels = x_factor.categories\n",
    "num_levels = len(factor_levels)\n",
    "\n",
    "print(f\"Factor levels (including NaN): {factor_levels}\")\n",
    "print(f\"Number of levels: {num_levels}\")"
   ]
  },
  {
   "cell_type": "markdown",
   "metadata": {
    "id": "w4o3ULW7eICC"
   },
   "source": [
    "* Cast `x` to integers. Use `where`, `isinfinite` from numpy and `astype` from base python."
   ]
  },
  {
   "cell_type": "code",
   "execution_count": null,
   "metadata": {
    "colab": {
     "base_uri": "https://localhost:8080/"
    },
    "id": "CHtCOU1wcfld",
    "outputId": "a1aefd63-5ffc-4dfa-9e8b-3c9e00bfaa25"
   },
   "outputs": [],
   "source": []
  },
  {
   "cell_type": "markdown",
   "metadata": {
    "id": "X3zDD-zgeyRf"
   },
   "source": [
    "* Use `x` to create a new vector `y` containing only the real numbers in x. Use `isnan`, `logical_and`, and `reduce` from numpy"
   ]
  },
  {
   "cell_type": "code",
   "execution_count": null,
   "metadata": {
    "colab": {
     "base_uri": "https://localhost:8080/"
    },
    "id": "nLNq9Pr8eiHD",
    "outputId": "0c69bf4b-5d73-4a03-dd85-726efe122b63"
   },
   "outputs": [],
   "source": []
  },
  {
   "cell_type": "markdown",
   "metadata": {
    "id": "S8qnxXNqt3JE"
   },
   "source": [
    "* Use the left rectangle method to numerically integrate x^2 from 0 to 1 with rectangle width size 1e-6. Use `arrange` and `sum` from numpy"
   ]
  },
  {
   "cell_type": "code",
   "execution_count": null,
   "metadata": {
    "colab": {
     "base_uri": "https://localhost:8080/"
    },
    "id": "W3zsckaxt32K",
    "outputId": "461405b1-dfc1-4f46-ed5c-5b4ce2fd3e93"
   },
   "outputs": [],
   "source": [
    "# Define the rectangle width\n",
    "width = 1e-6\n",
    "\n",
    "# Create the sequence for the left endpoints (similar to seq in R)\n",
    "x = np.arange(0, 1, width)\n",
    "\n",
    "# Compute the sum using the left rectangle method\n",
    "approximation = np.sum(x ** 2) * width\n",
    "\n",
    "# Print the result\n",
    "print(approximation)\n"
   ]
  },
  {
   "cell_type": "markdown",
   "metadata": {
    "id": "LFF_X0FKuyD4"
   },
   "source": [
    "* Calculate the average of 100 realizations of standard Bernoullis in one line using the numpy's random.choice function."
   ]
  },
  {
   "cell_type": "code",
   "execution_count": null,
   "metadata": {
    "colab": {
     "base_uri": "https://localhost:8080/"
    },
    "id": "JdeauzBkuVTr",
    "outputId": "cdfb63d0-43b5-4fa9-e6ad-5f0d5cd9efdd"
   },
   "outputs": [],
   "source": []
  },
  {
   "cell_type": "markdown",
   "metadata": {
    "id": "I9wgl1ycvvTx"
   },
   "source": [
    "* Calculate the average of 500 realizations of Bernoullis with p = 0.9 in one line using the `random.choice` and `mean` functions in numpy."
   ]
  },
  {
   "cell_type": "code",
   "execution_count": null,
   "metadata": {
    "colab": {
     "base_uri": "https://localhost:8080/"
    },
    "id": "ZcichNlevpph",
    "outputId": "b0b4181a-188d-4813-c5df-e907dac6c3a9"
   },
   "outputs": [],
   "source": []
  },
  {
   "cell_type": "markdown",
   "metadata": {
    "id": "pr9oLtR0wdqq"
   },
   "source": [
    "* Calculate the average of 1000 realizations of Bernoullis with p = 0.9 in one line using `binom` from scipy.stats."
   ]
  },
  {
   "cell_type": "code",
   "execution_count": null,
   "metadata": {
    "colab": {
     "base_uri": "https://localhost:8080/"
    },
    "id": "iDMM_OyCwPc1",
    "outputId": "38864a97-d646-4025-952e-24504a7c056c"
   },
   "outputs": [],
   "source": []
  },
  {
   "cell_type": "markdown",
   "metadata": {
    "id": "pZuC50jpw35z"
   },
   "source": [
    "* Let `n = 50`. Create a n x n matrix `R` of exactly 50% entries 0's, 25% 1's 25% 2's. These values should be in random locations."
   ]
  },
  {
   "cell_type": "code",
   "execution_count": null,
   "metadata": {
    "colab": {
     "base_uri": "https://localhost:8080/"
    },
    "id": "YhA5CdjRwzIb",
    "outputId": "b95c17ad-e8af-4edd-cfa7-3f8260d6781c"
   },
   "outputs": [],
   "source": [
    "import pandas as pd\n",
    "\n",
    "# Set n\n",
    "n = 50\n",
    "\n",
    "# Generate the random values with specified proportions\n",
    "values = np.random.permutation(\n",
    "    np.concatenate([\n",
    "        np.full(int(n * n * 0.5), 0),  # 50% 0's\n",
    "        np.full(int(n * n * 0.25), 1), # 25% 1's\n",
    "        np.full(int(n * n * 0.25), 2)  # 25% 2's\n",
    "    ])\n",
    ")\n",
    "\n",
    "# Reshape the values into an n x n matrix\n",
    "R = values.reshape(n, n)\n",
    "\n",
    "# Convert the matrix into a DataFrame\n",
    "df = pd.DataFrame(R)\n",
    "\n",
    "# Print the DataFrame\n",
    "print(df)"
   ]
  },
  {
   "cell_type": "markdown",
   "metadata": {
    "id": "nP6M8hfrxWUJ"
   },
   "source": [
    "* Randomly punch holes (i.e. `NA`) values in this matrix so that an each entry is missing with probability 30%."
   ]
  },
  {
   "cell_type": "code",
   "execution_count": null,
   "metadata": {
    "colab": {
     "base_uri": "https://localhost:8080/"
    },
    "id": "ffLrQxVTydX9",
    "outputId": "971f187e-4642-4ae7-d01e-4629b165e40d"
   },
   "outputs": [],
   "source": [
    "# Convert to float to allow NaN\n",
    "df = df.astype(float)\n",
    "\n",
    "# Randomly punch holes with 30% probability\n",
    "mask = np.random.choice([True, False], size=df.shape, p=[0.3, 0.7])\n",
    "df[mask] = np.nan\n",
    "\n",
    "# View the resulting DataFrame\n",
    "print(df)"
   ]
  },
  {
   "cell_type": "code",
   "execution_count": null,
   "metadata": {
    "colab": {
     "base_uri": "https://localhost:8080/"
    },
    "id": "LaCZ-_c4xPxp",
    "outputId": "198e2ee0-f845-4ec5-ae0d-10fe2ebc0aae"
   },
   "outputs": [],
   "source": [
    "import numpy as np\n",
    "import pandas as pd\n",
    "\n",
    "# Set matrix dimensions and proportions\n",
    "n = 50\n",
    "values = np.random.permutation(\n",
    "    np.concatenate([\n",
    "        np.full(int(n * n * 0.5), 0),  # 50% 0's\n",
    "        np.full(int(n * n * 0.25), 1), # 25% 1's\n",
    "        np.full(int(n * n * 0.25), 2)  # 25% 2's\n",
    "    ])\n",
    ")\n",
    "\n",
    "# Reshape the matrix\n",
    "R = values.reshape(n, n)\n",
    "\n",
    "# Create a mask for punching holes with a 30% probability\n",
    "random_holes = np.random.choice([True, False], size=(n, n), p=[0.3, 0.7])\n",
    "\n",
    "# Assign NaN to the corresponding positions\n",
    "R = R.astype(float)  # Convert to float to support NaN\n",
    "R[random_holes] = np.nan\n",
    "\n",
    "# Convert to DataFrame\n",
    "df = pd.DataFrame(R)\n",
    "\n",
    "\n",
    "print(df)\n"
   ]
  },
  {
   "cell_type": "markdown",
   "metadata": {
    "id": "trL0Ltu4yp9m"
   },
   "source": [
    "* Sort the rows in matrix `R` by the largest row sum to lowest. Be careful about the NA's!"
   ]
  },
  {
   "cell_type": "code",
   "execution_count": null,
   "metadata": {
    "colab": {
     "base_uri": "https://localhost:8080/"
    },
    "id": "QGPEL3Ba1ana",
    "outputId": "5fed490c-5567-42dd-f607-495500c373ed"
   },
   "outputs": [],
   "source": []
  },
  {
   "cell_type": "markdown",
   "metadata": {
    "id": "1T_tkkym9FIP"
   },
   "source": [
    "* Python does not have an apply function. Instead use the nanstd function in numpy to calculate the standard devation of each column. Print them and combine then into a dataframe."
   ]
  },
  {
   "cell_type": "code",
   "execution_count": null,
   "metadata": {
    "colab": {
     "base_uri": "https://localhost:8080/"
    },
    "id": "hc55J-CX0Jx-",
    "outputId": "086da3d7-5d85-4ea7-ee97-f565fcbc4987"
   },
   "outputs": [],
   "source": []
  },
  {
   "cell_type": "markdown",
   "metadata": {},
   "source": [
    "* combine the results from the previous cell into a dataframe"
   ]
  },
  {
   "cell_type": "code",
   "execution_count": null,
   "metadata": {
    "colab": {
     "base_uri": "https://localhost:8080/",
     "height": 1000
    },
    "id": "ZT3Gzrcm5pR2",
    "outputId": "89a7707e-c0e9-45be-cf24-8d7193609bae"
   },
   "outputs": [],
   "source": []
  },
  {
   "cell_type": "markdown",
   "metadata": {
    "id": "L-A7Cfa98DDg"
   },
   "source": [
    "* Use the Pandas apply function to compute a vector whose entries are the count of entries that are 1 or 2 in each column"
   ]
  },
  {
   "cell_type": "code",
   "execution_count": null,
   "metadata": {
    "colab": {
     "base_uri": "https://localhost:8080/"
    },
    "id": "54XfftmJ77oY",
    "outputId": "8baa21e3-58dc-4348-d205-288750a36dd2"
   },
   "outputs": [],
   "source": []
  },
  {
   "cell_type": "markdown",
   "metadata": {
    "id": "YGsPbNYnGw7b"
   },
   "source": [
    "Since we just switched between Pandas dataframes and Numpy arrays. Here are some handy ways to check to see if you are working with a Pandas dataframe or a Numpy array"
   ]
  },
  {
   "cell_type": "code",
   "execution_count": null,
   "metadata": {
    "colab": {
     "base_uri": "https://localhost:8080/"
    },
    "id": "XIaPkMlqHaN4",
    "outputId": "a1564ca8-68a0-4696-ac53-d7283a2bd919"
   },
   "outputs": [],
   "source": [
    "# Check type directly\n",
    "if type(R) == pd.DataFrame:\n",
    "    print(\"R is a Pandas DataFrame\")\n",
    "\n",
    "if type(R) == np.ndarray:\n",
    "    print(\"R is a NumPy array\")"
   ]
  },
  {
   "cell_type": "code",
   "execution_count": null,
   "metadata": {
    "colab": {
     "base_uri": "https://localhost:8080/"
    },
    "id": "TbnwGrJzGAjI",
    "outputId": "54de6748-d7e4-420e-fb7e-3719496a1c90"
   },
   "outputs": [],
   "source": [
    "# isinstance(object, classinfo): This function checks if an object is an instance of a specified class or subclass.\n",
    "# function utilizing this function to check\n",
    "def check_type(R):\n",
    "    if isinstance(R, pd.DataFrame):\n",
    "        return \"Pandas DataFrame\"\n",
    "    elif isinstance(R, np.ndarray):\n",
    "        return \"NumPy array\"\n",
    "    else:\n",
    "        return \"Unknown type\"\n",
    "\n",
    "# Test the function\n",
    "print(check_type(R))  # Output: Pandas DataFrame"
   ]
  },
  {
   "cell_type": "markdown",
   "metadata": {
    "id": "ys-3fJhOHrIq"
   },
   "source": [
    "* Create a list whose keys are the column number and values are the vector of the columns."
   ]
  },
  {
   "cell_type": "code",
   "execution_count": null,
   "metadata": {
    "colab": {
     "base_uri": "https://localhost:8080/"
    },
    "id": "lbqjigOmGZe7",
    "outputId": "a34b842b-1010-407e-e732-603af3be95b5"
   },
   "outputs": [],
   "source": []
  },
  {
   "cell_type": "markdown",
   "metadata": {
    "id": "9nv5y7PcIjmO"
   },
   "source": [
    "* Create a list whose keys are the column number and values are themselves a list with keys: \"min\" whose value is the minimum of the column, \"max\" whose value is the maximum of the column, \"pct_missing\" is the proportion of missingness in the column and \"first_NA\" whose value is the row number of the first time the NA appears. In R this was accomplished using lappy. In Python we will use dictionary comprehension in tandem with Numpy and Pandas operations."
   ]
  },
  {
   "cell_type": "code",
   "execution_count": null,
   "metadata": {
    "colab": {
     "base_uri": "https://localhost:8080/"
    },
    "id": "PA9Y8De_JBKy",
    "outputId": "b2414bb1-aba9-4798-9213-1be8cf957deb"
   },
   "outputs": [],
   "source": []
  },
  {
   "cell_type": "markdown",
   "metadata": {
    "id": "ODDPcnZkJ5NC"
   },
   "source": [
    "* Set a seed and then create a vector `v` consisting of a sample of 1,000 iid normal realizations with mean -10 and variance 100."
   ]
  },
  {
   "cell_type": "code",
   "execution_count": null,
   "metadata": {
    "colab": {
     "base_uri": "https://localhost:8080/"
    },
    "id": "nw2iaLlhJQqZ",
    "outputId": "f93873f8-979a-40c2-c95a-3d84a98fef3c"
   },
   "outputs": [],
   "source": []
  },
  {
   "cell_type": "markdown",
   "metadata": {
    "id": "tnKYRW5AKI7I"
   },
   "source": [
    "* Repeat this exercise by resetting the seed to ensure you obtain the same results. You can use the random module built in python or random.seed from numpy."
   ]
  },
  {
   "cell_type": "code",
   "execution_count": null,
   "metadata": {
    "colab": {
     "base_uri": "https://localhost:8080/"
    },
    "id": "1QHAam3_KCdD",
    "outputId": "9dd29024-89b8-4ab5-d150-0999b39876ae"
   },
   "outputs": [],
   "source": []
  },
  {
   "cell_type": "markdown",
   "metadata": {
    "id": "RH1j1mgNKnc1"
   },
   "source": [
    "* Find the average of `v` and the standard error of `v`."
   ]
  },
  {
   "cell_type": "code",
   "execution_count": null,
   "metadata": {
    "colab": {
     "base_uri": "https://localhost:8080/"
    },
    "id": "HWJZzmV3KPww",
    "outputId": "72de329e-cfa0-485a-f99f-afd0714804ef"
   },
   "outputs": [],
   "source": []
  },
  {
   "cell_type": "markdown",
   "metadata": {
    "id": "rH-Sf7vqLBxz"
   },
   "source": [
    "* Find the 5%ile of `v` and use the `norm` function from scipy.stats to compute what it theoretically should be. Is the estimate about what is expected by theory?"
   ]
  },
  {
   "cell_type": "code",
   "execution_count": null,
   "metadata": {
    "colab": {
     "base_uri": "https://localhost:8080/"
    },
    "id": "aBMMfyNBLAzS",
    "outputId": "644d6a5c-9cea-4d4b-b7b2-a21b82c6a347"
   },
   "outputs": [],
   "source": []
  },
  {
   "cell_type": "markdown",
   "metadata": {
    "id": "8R9DHC_yLq57"
   },
   "source": [
    "* What is the percentile of `v` that corresponds to the value 0? What should it be theoretically? Is the estimate about what is expected by theory?"
   ]
  },
  {
   "cell_type": "code",
   "execution_count": null,
   "metadata": {
    "colab": {
     "base_uri": "https://localhost:8080/"
    },
    "id": "zf-4WAiKLefJ",
    "outputId": "e131bf75-069c-42ba-b577-7b119d641679"
   },
   "outputs": [],
   "source": []
  },
  {
   "cell_type": "markdown",
   "metadata": {
    "id": "494OABRdM6CZ"
   },
   "source": [
    "* Create a function `my_reverse` which takes as required input a vector `v` and returns the vector in reverse where the first entry is the last entry, etc. No function calls are allowed inside your function otherwise that would defeat the purpose of the exercise! (Yes, there is a base R function that does this called `rev`). "
   ]
  },
  {
   "cell_type": "code",
   "execution_count": null,
   "metadata": {
    "colab": {
     "base_uri": "https://localhost:8080/"
    },
    "id": "FNXIBb6ZM2yq",
    "outputId": "175eaaa6-2a71-46c5-b22c-9fc94d83ef15"
   },
   "outputs": [],
   "source": []
  },
  {
   "cell_type": "markdown",
   "metadata": {
    "id": "lCutgH2kOMDd"
   },
   "source": [
    " * Built in methods in python to reverse a list."
   ]
  },
  {
   "cell_type": "code",
   "execution_count": null,
   "metadata": {
    "colab": {
     "base_uri": "https://localhost:8080/"
    },
    "id": "_F67NrC8N5nl",
    "outputId": "38ec40dc-3f57-4ada-d253-045c1b4bf985"
   },
   "outputs": [],
   "source": [
    "#reverse using slicing\n",
    "v = [1, 2, 3, 4, 5]\n",
    "v_reversed = v[::-1]\n",
    "print(v_reversed)\n",
    "\n",
    "#using the .reverse method\n",
    "v = [1, 2, 3, 4, 5]\n",
    "v.reverse()\n",
    "print(v)"
   ]
  },
  {
   "cell_type": "markdown",
   "metadata": {
    "id": "4VZDnJUFNp9d"
   },
   "source": [
    "* Create a function `flip_matrix` which takes as required input a matrix, an argument `dim_to_rev` that returns the matrix with the rows in reverse order or the columns in reverse order depending on the `dim_to_rev` argument. Let the default be the dimension of the matrix that is greater."
   ]
  },
  {
   "cell_type": "code",
   "execution_count": null,
   "metadata": {
    "colab": {
     "base_uri": "https://localhost:8080/"
    },
    "id": "KJzPP76INONa",
    "outputId": "44dd9b1f-9e5b-48ed-edcb-37be5f026df9"
   },
   "outputs": [],
   "source": []
  },
  {
   "cell_type": "markdown",
   "metadata": {
    "id": "1n-VzTJTPpoU"
   },
   "source": [
    "* Create a list named `my_list` with keys \"A\", \"B\", ... where the entries are arrays of size 1, 2 x 2, 3 x 3 x 3, etc. Fill the array with the numbers 1, 2, 3, etc. Make 8 entries according to this sequence."
   ]
  },
  {
   "cell_type": "code",
   "execution_count": null,
   "metadata": {
    "colab": {
     "base_uri": "https://localhost:8080/"
    },
    "id": "vGYjxbVcPNLN",
    "outputId": "165888fb-2728-4a4c-daf3-5183e6e1c66b"
   },
   "outputs": [],
   "source": [
    "\n"
   ]
  },
  {
   "cell_type": "markdown",
   "metadata": {
    "id": "mZExH8G6Qr-s"
   },
   "source": [
    "* Run the following code:"
   ]
  },
  {
   "cell_type": "code",
   "execution_count": null,
   "metadata": {
    "colab": {
     "base_uri": "https://localhost:8080/"
    },
    "id": "iV2anQ8cQBw_",
    "outputId": "c9bf96a4-5f98-41f8-9ef6-2b95f9ccfeb9"
   },
   "outputs": [],
   "source": [
    "import sys\n",
    "\n",
    "sizes = {key: sys.getsizeof(value) for key, value in my_list.items()}\n",
    "\n",
    "\n",
    "# Print the sizes\n",
    "for key, size in sizes.items():\n",
    "    print(f\"Key: {key}, Size: {size} bytes\")"
   ]
  },
  {
   "cell_type": "markdown",
   "metadata": {
    "id": "GG32YkXnSxqM"
   },
   "source": [
    "* Create vector `v` consisting of all numbers from -100 to 100 and test using the second line of code"
   ]
  },
  {
   "cell_type": "code",
   "execution_count": null,
   "metadata": {
    "colab": {
     "base_uri": "https://localhost:8080/"
    },
    "id": "LnkySK_uSSlb",
    "outputId": "b0de8d3e-cc41-4123-f08c-0a03e395b3d5"
   },
   "outputs": [],
   "source": []
  },
  {
   "cell_type": "markdown",
   "metadata": {
    "id": "dH4AjtFUVphe"
   },
   "source": [
    "* Test the `my_reverse` function using the following code:"
   ]
  },
  {
   "cell_type": "code",
   "execution_count": null,
   "metadata": {
    "colab": {
     "base_uri": "https://localhost:8080/"
    },
    "id": "zAJAaua1SbqD",
    "outputId": "f1922dde-f8d2-47a8-edd5-f0d70144d9c2"
   },
   "outputs": [],
   "source": [
    "# Test the function\n",
    "v = list(range(1, 11))\n",
    "v_reversed = my_reverse(v)\n",
    "print(v)\n",
    "print(v_reversed)\n",
    "type(v_reversed)\n",
    "\n",
    "assert my_reverse(v) == v[::-1], \"my_reverse failed for numerical vector\"\n",
    "\n",
    " # Test with character vector\n",
    "v_char = [\"A\", \"B\", \"C\"]\n",
    "assert my_reverse(v_char) == v_char[::-1], \"my_reverse failed for character vector\""
   ]
  },
  {
   "cell_type": "markdown",
   "metadata": {
    "id": "B4ch5SmkVzfz"
   },
   "source": [
    "## A little about strings\n",
    "\n",
    "* Use the `re.split` function by importing the re module and `random` from the random module to put the sentences in the string `lorem` below in random order. You will also need to manipulate the output of `re.split` which is a list. You may need to learn basic concepts of regular expressions."
   ]
  },
  {
   "cell_type": "code",
   "execution_count": null,
   "metadata": {
    "colab": {
     "base_uri": "https://localhost:8080/"
    },
    "id": "tVRqWzFCVzAX",
    "outputId": "c58a0650-9033-4ef6-d02e-4f3f6ee21251"
   },
   "outputs": [],
   "source": [
    "import re\n",
    "import random\n",
    "\n",
    "lorem = \"\"\"Lorem ipsum dolor sit amet, consectetur adipiscing elit.\n",
    "Morbi posuere varius volutpat. Morbi faucibus ligula id massa ultricies viverra.\n",
    "Donec vehicula sagittis nisi non semper. Donec at tempor erat.\n",
    "Integer dapibus mi lectus, eu posuere arcu ultricies in.\n",
    "Cras suscipit id nibh lacinia elementum. Curabitur est augue, congue eget quam in, scelerisque semper magna.\n",
    "Aenean nulla ante, iaculis sed vehicula ac, finibus vel arcu. Mauris at sodales augue.\"\"\"\n",
    "\n"
   ]
  },
  {
   "cell_type": "markdown",
   "metadata": {
    "id": "40eoQu9LWrBo"
   },
   "source": [
    "* You have a set of names divided by gender (M / F) and generation (Boomer / GenX / Millenial):\n",
    "\n",
    "M / Boomer      \"Theodore, Bernard, Gene, Herbert, Ray, Tom, Lee, Alfred, Leroy, Eddie\"\n",
    "\n",
    "M / GenX        \"Marc, Jamie, Greg, Darryl, Tim, Dean, Jon, Chris, Troy, Jeff\"\n",
    "\n",
    "M / Millennial  \"Zachary, Dylan, Christian, Wesley, Seth, Austin, Gabriel, Evan, Casey, Luis\"\n",
    "\n",
    "F / Boomer      \"Gloria, Joan, Dorothy, Shirley, Betty, Dianne, Kay, Marjorie, Lorraine, Mildred\"\n",
    "\n",
    "F / GenX        \"Tracy, Dawn, Tina, Tammy, Melinda, Tamara, Tracey, Colleen, Sherri, Heidi\"\n",
    "\n",
    "F / Millennial  \"Samantha, Alexis, Brittany, Lauren, Taylor, Bethany, Latoya, Candice, Brittney, Cheyenne\"\n",
    "\n",
    "Create python dictionary to store this data.\n"
   ]
  },
  {
   "cell_type": "code",
   "execution_count": null,
   "metadata": {
    "colab": {
     "base_uri": "https://localhost:8080/"
    },
    "id": "KMpxbhglWYoA",
    "outputId": "334af4d7-a902-4c79-c3fe-03988d6654ab"
   },
   "outputs": [],
   "source": []
  },
  {
   "cell_type": "markdown",
   "metadata": {
    "id": "mE0YVNtiWzC2"
   },
   "source": [
    "* Now cleanup the namespace by deleting all stored objects and functions:"
   ]
  },
  {
   "cell_type": "code",
   "execution_count": null,
   "metadata": {
    "colab": {
     "base_uri": "https://localhost:8080/"
    },
    "id": "cqUJBY1uWzty",
    "outputId": "7a5eae8c-2613-4e44-a460-25d06818e769"
   },
   "outputs": [],
   "source": [
    "\n"
   ]
  }
 ],
 "metadata": {
  "colab": {
   "provenance": []
  },
  "kernelspec": {
   "display_name": "Python 3 (ipykernel)",
   "language": "python",
   "name": "python3"
  },
  "language_info": {
   "codemirror_mode": {
    "name": "ipython",
    "version": 3
   },
   "file_extension": ".py",
   "mimetype": "text/x-python",
   "name": "python",
   "nbconvert_exporter": "python",
   "pygments_lexer": "ipython3",
   "version": "3.12.7"
  }
 },
 "nbformat": 4,
 "nbformat_minor": 4
}
