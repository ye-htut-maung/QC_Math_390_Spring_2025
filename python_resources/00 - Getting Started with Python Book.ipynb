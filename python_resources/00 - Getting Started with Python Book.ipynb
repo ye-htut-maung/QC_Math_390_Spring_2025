{
 "cells": [
  {
   "cell_type": "markdown",
   "id": "9831cbd2",
   "metadata": {},
   "source": [
    "## Numbers"
   ]
  },
  {
   "cell_type": "code",
   "execution_count": 1,
   "id": "7be66495",
   "metadata": {},
   "outputs": [
    {
     "data": {
      "text/plain": [
       "17"
      ]
     },
     "execution_count": 1,
     "metadata": {},
     "output_type": "execute_result"
    }
   ],
   "source": [
    "a = 14\n",
    "b = 3\n",
    "a + b # addition"
   ]
  },
  {
   "cell_type": "code",
   "execution_count": 2,
   "id": "f5633d3f",
   "metadata": {},
   "outputs": [
    {
     "data": {
      "text/plain": [
       "11"
      ]
     },
     "execution_count": 2,
     "metadata": {},
     "output_type": "execute_result"
    }
   ],
   "source": [
    "a - b # subtraction"
   ]
  },
  {
   "cell_type": "code",
   "execution_count": 3,
   "id": "35f66a64",
   "metadata": {},
   "outputs": [
    {
     "data": {
      "text/plain": [
       "42"
      ]
     },
     "execution_count": 3,
     "metadata": {},
     "output_type": "execute_result"
    }
   ],
   "source": [
    "a * b # multiplication"
   ]
  },
  {
   "cell_type": "code",
   "execution_count": 4,
   "id": "ddc1cb43",
   "metadata": {},
   "outputs": [
    {
     "data": {
      "text/plain": [
       "4.666666666666667"
      ]
     },
     "execution_count": 4,
     "metadata": {},
     "output_type": "execute_result"
    }
   ],
   "source": [
    "a / b # true division"
   ]
  },
  {
   "cell_type": "code",
   "execution_count": 5,
   "id": "bc03fd1f",
   "metadata": {},
   "outputs": [
    {
     "data": {
      "text/plain": [
       "4"
      ]
     },
     "execution_count": 5,
     "metadata": {},
     "output_type": "execute_result"
    }
   ],
   "source": [
    "a // b # integer division"
   ]
  },
  {
   "cell_type": "code",
   "execution_count": 6,
   "id": "0497ba41",
   "metadata": {
    "scrolled": true
   },
   "outputs": [
    {
     "data": {
      "text/plain": [
       "2"
      ]
     },
     "execution_count": 6,
     "metadata": {},
     "output_type": "execute_result"
    }
   ],
   "source": [
    "a % b # modulo operator (remainder of division)"
   ]
  },
  {
   "cell_type": "code",
   "execution_count": 7,
   "id": "6907afcb",
   "metadata": {},
   "outputs": [
    {
     "data": {
      "text/plain": [
       "2744"
      ]
     },
     "execution_count": 7,
     "metadata": {},
     "output_type": "execute_result"
    }
   ],
   "source": [
    "a ** b # power operation"
   ]
  },
  {
   "cell_type": "code",
   "execution_count": null,
   "id": "e4fd5ffc",
   "metadata": {},
   "outputs": [],
   "source": [
    "7 / 4 # true division"
   ]
  },
  {
   "cell_type": "code",
   "execution_count": 8,
   "id": "833960f3",
   "metadata": {},
   "outputs": [
    {
     "data": {
      "text/plain": [
       "1"
      ]
     },
     "execution_count": 8,
     "metadata": {},
     "output_type": "execute_result"
    }
   ],
   "source": [
    "7 // 4 # integer division, truncation returns 1"
   ]
  },
  {
   "cell_type": "code",
   "execution_count": 9,
   "id": "03d5da58",
   "metadata": {},
   "outputs": [
    {
     "data": {
      "text/plain": [
       "-1.75"
      ]
     },
     "execution_count": 9,
     "metadata": {},
     "output_type": "execute_result"
    }
   ],
   "source": [
    "-7 / 4 # true division, result is the opposite of the previous"
   ]
  },
  {
   "cell_type": "code",
   "execution_count": null,
   "id": "a323d4b5",
   "metadata": {},
   "outputs": [],
   "source": [
    "-7 // 4 # integer division, result not the opposite of the previous"
   ]
  },
  {
   "cell_type": "markdown",
   "id": "ec5b4c66",
   "metadata": {},
   "source": [
    "- The result of an integer division in Python is always rounded towards minus infinity. If instead of flooring, you want to truncate a number to an integer, you can use the built-in 'int' function as seen in the below example."
   ]
  },
  {
   "cell_type": "code",
   "execution_count": null,
   "id": "fa5f8dbd",
   "metadata": {},
   "outputs": [],
   "source": [
    "int(1.75) # truncation is done towards zero "
   ]
  },
  {
   "cell_type": "code",
   "execution_count": null,
   "id": "2a1587a0",
   "metadata": {},
   "outputs": [],
   "source": [
    "int(-1.75) # truncation is done towards zero "
   ]
  },
  {
   "cell_type": "code",
   "execution_count": null,
   "id": "ec95dfd1",
   "metadata": {},
   "outputs": [],
   "source": [
    "n = 1024\n",
    "n"
   ]
  },
  {
   "cell_type": "code",
   "execution_count": null,
   "id": "2e24113c",
   "metadata": {},
   "outputs": [],
   "source": [
    "m = 1_024\n",
    "m"
   ]
  },
  {
   "cell_type": "code",
   "execution_count": null,
   "id": "05048a31",
   "metadata": {},
   "outputs": [],
   "source": [
    "m == n"
   ]
  },
  {
   "cell_type": "code",
   "execution_count": null,
   "id": "550e5fe7",
   "metadata": {},
   "outputs": [],
   "source": [
    "hex_n = 0x_4_0_0 # 0x400 == 1024\n",
    "hex_n"
   ]
  },
  {
   "cell_type": "markdown",
   "id": "a1b3d7e1",
   "metadata": {},
   "source": [
    "## Booleans"
   ]
  },
  {
   "cell_type": "code",
   "execution_count": 10,
   "id": "b5b86f3f",
   "metadata": {},
   "outputs": [
    {
     "data": {
      "text/plain": [
       "1"
      ]
     },
     "execution_count": 10,
     "metadata": {},
     "output_type": "execute_result"
    }
   ],
   "source": [
    "int(True) # True behaves like 1"
   ]
  },
  {
   "cell_type": "code",
   "execution_count": null,
   "id": "e749bdba",
   "metadata": {},
   "outputs": [],
   "source": [
    "int(False) # False behaves like 0"
   ]
  },
  {
   "cell_type": "code",
   "execution_count": null,
   "id": "77c8b1b9",
   "metadata": {},
   "outputs": [],
   "source": [
    "bool(1) # 1 evaluates to True in a boolean context"
   ]
  },
  {
   "cell_type": "code",
   "execution_count": null,
   "id": "aee46b86",
   "metadata": {},
   "outputs": [],
   "source": [
    "bool(-42) # and so does every non-zero number"
   ]
  },
  {
   "cell_type": "code",
   "execution_count": null,
   "id": "7f1bef7f",
   "metadata": {},
   "outputs": [],
   "source": [
    "bool(0) # 0 evaluates to False"
   ]
  },
  {
   "cell_type": "code",
   "execution_count": null,
   "id": "c0b44270",
   "metadata": {},
   "outputs": [],
   "source": [
    "not True"
   ]
  },
  {
   "cell_type": "code",
   "execution_count": null,
   "id": "294e33fa",
   "metadata": {},
   "outputs": [],
   "source": [
    "not False"
   ]
  },
  {
   "cell_type": "code",
   "execution_count": null,
   "id": "b34823d6",
   "metadata": {},
   "outputs": [],
   "source": [
    "True and True"
   ]
  },
  {
   "cell_type": "code",
   "execution_count": null,
   "id": "e225d944",
   "metadata": {},
   "outputs": [],
   "source": [
    "False or True"
   ]
  },
  {
   "cell_type": "markdown",
   "id": "57dd696d",
   "metadata": {},
   "source": [
    " - True and False are subclasses of integers when you try to add them. Python upcasts them to integers and performs the addition (Upcasting is a type of conversion operation that goes from a subclass to its parent. In the examples presented here True and False, which belong to a class derived from the integer class, are converted back to integers when needed):"
   ]
  },
  {
   "cell_type": "code",
   "execution_count": 11,
   "id": "ecc1ee0c",
   "metadata": {},
   "outputs": [
    {
     "data": {
      "text/plain": [
       "2"
      ]
     },
     "execution_count": 11,
     "metadata": {},
     "output_type": "execute_result"
    }
   ],
   "source": [
    "1 + True"
   ]
  },
  {
   "cell_type": "code",
   "execution_count": 12,
   "id": "aacb0aab",
   "metadata": {},
   "outputs": [
    {
     "data": {
      "text/plain": [
       "42"
      ]
     },
     "execution_count": 12,
     "metadata": {},
     "output_type": "execute_result"
    }
   ],
   "source": [
    "False + 42"
   ]
  },
  {
   "cell_type": "code",
   "execution_count": 13,
   "id": "1bcf9be6",
   "metadata": {},
   "outputs": [
    {
     "data": {
      "text/plain": [
       "6"
      ]
     },
     "execution_count": 13,
     "metadata": {},
     "output_type": "execute_result"
    }
   ],
   "source": [
    "7 - True"
   ]
  },
  {
   "cell_type": "markdown",
   "id": "0a24c4c5",
   "metadata": {},
   "source": [
    "## Real numbers\n",
    "\n",
    "Usually, programming languages give coders two different formats: single and double precision. Single precision take up 32 bits of memory and double precision takes up 64 bits of memory. Python supports the double precision format."
   ]
  },
  {
   "cell_type": "code",
   "execution_count": 14,
   "id": "0242f14e",
   "metadata": {},
   "outputs": [
    {
     "data": {
      "text/plain": [
       "63.617251235400005"
      ]
     },
     "execution_count": 14,
     "metadata": {},
     "output_type": "execute_result"
    }
   ],
   "source": [
    "pi = 3.1415926536 # how many dipits of pi can you remember?\n",
    "radius = 4.5\n",
    "area = pi * (radius ** 2)\n",
    "area"
   ]
  },
  {
   "cell_type": "code",
   "execution_count": null,
   "id": "2afce016",
   "metadata": {},
   "outputs": [],
   "source": [
    "# the sys.float_info struct sequence holds information about how floating point numbers will behave on your system.\n",
    "import sys\n",
    "sys.float_info"
   ]
  },
  {
   "cell_type": "markdown",
   "id": "09061286",
   "metadata": {},
   "source": [
    "- We have 64 bits to represent float numbers. This means we can represent at most 2 ** 64 = 18.446,744,073,709,551,616 numbers with that amount of bits. Take a look at the 'max' and 'epsilon' values for the flaot numbers, and you will realize it's impossible to represent them all. There is just not enough space, so they are approximated to the closest representable number. You probably think that only extremely big or extremely small numbers suffer from this issue. Well, think again and try the following:"
   ]
  },
  {
   "cell_type": "code",
   "execution_count": null,
   "id": "84f40778",
   "metadata": {},
   "outputs": [],
   "source": [
    "0.3 - 0.1 * 3 # this should be 0!!!"
   ]
  },
  {
   "cell_type": "markdown",
   "id": "c2b410cd",
   "metadata": {},
   "source": [
    "- What does this tell you? This means that double precision numbers suffer from approximation issues even when it comes to simple numbers like 0.1 or 0.3. Why is this important? It can be a significant problem if you are handling prices or financial calulcations, or any type of data that needs to not be approximated. To solve this Python gives you the 'decimal' type which doesn't suffer from this problem"
   ]
  },
  {
   "cell_type": "markdown",
   "id": "38f3bb85",
   "metadata": {},
   "source": [
    "## Fractions and Decimals"
   ]
  },
  {
   "cell_type": "code",
   "execution_count": null,
   "id": "3e2d3ad6",
   "metadata": {},
   "outputs": [],
   "source": [
    "from fractions import Fraction\n",
    "Fraction(10, 6) # mad hatter? notice it has been simplified"
   ]
  },
  {
   "cell_type": "code",
   "execution_count": null,
   "id": "0f79d1c4",
   "metadata": {},
   "outputs": [],
   "source": [
    "Fraction(1, 3) + Fraction (2, 3)  # 1/3 + 2/3 == 3/3 == 1/1 == 1"
   ]
  },
  {
   "cell_type": "code",
   "execution_count": null,
   "id": "a3e6fb89",
   "metadata": {},
   "outputs": [],
   "source": [
    "f = Fraction(10, 6)\n",
    "f.numerator"
   ]
  },
  {
   "cell_type": "code",
   "execution_count": null,
   "id": "835e9d6e",
   "metadata": {},
   "outputs": [],
   "source": [
    "f.denominator"
   ]
  },
  {
   "cell_type": "code",
   "execution_count": null,
   "id": "1bf5724b",
   "metadata": {},
   "outputs": [],
   "source": [
    "from decimal import Decimal as D # rename for brevity\n",
    "D(3.14) # pi, from float, so approximation issues"
   ]
  },
  {
   "cell_type": "code",
   "execution_count": null,
   "id": "c010a980",
   "metadata": {},
   "outputs": [],
   "source": [
    "D('3.14')"
   ]
  },
  {
   "cell_type": "code",
   "execution_count": null,
   "id": "2764d4c8",
   "metadata": {},
   "outputs": [],
   "source": [
    "D(0.1) * D(3) - D(0.3) # from float, we still have the issue "
   ]
  },
  {
   "cell_type": "code",
   "execution_count": null,
   "id": "e230836f",
   "metadata": {},
   "outputs": [],
   "source": [
    "D('0.1') * D(3) - D('0.3') # from string ... problem solved!"
   ]
  },
  {
   "cell_type": "code",
   "execution_count": null,
   "id": "8a59e75b",
   "metadata": {},
   "outputs": [],
   "source": [
    "D('1.4').as_integer_ratio() #7/5 = 1.4 "
   ]
  },
  {
   "cell_type": "markdown",
   "id": "17395f67",
   "metadata": {},
   "source": [
    "- When we construct a 'Decimal' number from a 'float', it takes on all the approximation issues 'float' has. 'Decimal' has no approximation issues when we feed an 'int' or a 'string' representation to the constructor. "
   ]
  },
  {
   "cell_type": "markdown",
   "id": "a14d028a",
   "metadata": {},
   "source": [
    "##  Immutable Sequences i.e Strings, Tuples, and bytes"
   ]
  },
  {
   "cell_type": "markdown",
   "id": "8f71643f",
   "metadata": {},
   "source": [
    "- Strings and bytes"
   ]
  },
  {
   "cell_type": "code",
   "execution_count": null,
   "id": "0b90cdd2",
   "metadata": {},
   "outputs": [],
   "source": [
    "# 4 weays to make a string\n",
    "str1 = 'This is a string. We built it with single quotes.'\n",
    "str2 = \"This is also a string, but built with double quotes.\"\n",
    "str3 = '''This is built using triple quotes, so it \n",
    "can span multiple lines.'''\n",
    "str4 = \"\"\"This too \n",
    "is a multiline one\n",
    "buit with triple double-quotes.\"\"\"\n",
    "str4  # printed implicitly"
   ]
  },
  {
   "cell_type": "code",
   "execution_count": null,
   "id": "11850437",
   "metadata": {},
   "outputs": [],
   "source": [
    "print(str4) # printed explicitly"
   ]
  },
  {
   "cell_type": "code",
   "execution_count": null,
   "id": "37abd20e",
   "metadata": {},
   "outputs": [],
   "source": [
    "len(str1)"
   ]
  },
  {
   "cell_type": "code",
   "execution_count": 15,
   "id": "72488e2f",
   "metadata": {},
   "outputs": [
    {
     "name": "stdout",
     "output_type": "stream",
     "text": [
      "Kennly Weerasinghe\n"
     ]
    }
   ],
   "source": [
    "first_name = 'Kennly'\n",
    "last_name = 'Weerasinghe'\n",
    "full_name = first_name + ' ' + last_name\n",
    "print(full_name)"
   ]
  },
  {
   "cell_type": "code",
   "execution_count": null,
   "id": "854ec358",
   "metadata": {},
   "outputs": [],
   "source": [
    "weather = \"It's sunny\"\n",
    "print(weather)"
   ]
  },
  {
   "cell_type": "code",
   "execution_count": 16,
   "id": "3ecd6897",
   "metadata": {},
   "outputs": [
    {
     "ename": "SyntaxError",
     "evalue": "invalid syntax (2193194032.py, line 1)",
     "output_type": "error",
     "traceback": [
      "\u001b[1;36m  Cell \u001b[1;32mIn[16], line 1\u001b[1;36m\u001b[0m\n\u001b[1;33m    weather = \"It's \"kind of\" sunny\"\u001b[0m\n\u001b[1;37m                     ^\u001b[0m\n\u001b[1;31mSyntaxError\u001b[0m\u001b[1;31m:\u001b[0m invalid syntax\n"
     ]
    }
   ],
   "source": [
    "weather = \"It's \"kind of\" sunny\"\n",
    "print(weather)"
   ]
  },
  {
   "cell_type": "code",
   "execution_count": 17,
   "id": "c8016b8c",
   "metadata": {},
   "outputs": [
    {
     "name": "stdout",
     "output_type": "stream",
     "text": [
      "It's \"kind of\" sunny\n"
     ]
    },
    {
     "data": {
      "text/plain": [
       "'It\\'s \"kind of\" sunny'"
      ]
     },
     "execution_count": 17,
     "metadata": {},
     "output_type": "execute_result"
    }
   ],
   "source": [
    "weather = \"It's \\\"kind of\\\" sunny\"\n",
    "print(weather)\n",
    "weather"
   ]
  },
  {
   "cell_type": "code",
   "execution_count": null,
   "id": "0c9ad039",
   "metadata": {},
   "outputs": [],
   "source": [
    "weather = \"\\t It's \\\"kind of\\\" sunny\" # \\t uses tab to indent the line\n",
    "print(weather)"
   ]
  },
  {
   "cell_type": "markdown",
   "id": "da8d106d",
   "metadata": {},
   "source": [
    "- Indexing and slicing strings\n",
    "       - When dealing with immutable sequences, both indexing and slicing operations are read-only. "
   ]
  },
  {
   "cell_type": "code",
   "execution_count": 18,
   "id": "7a694ef1",
   "metadata": {},
   "outputs": [
    {
     "data": {
      "text/plain": [
       "'T'"
      ]
     },
     "execution_count": 18,
     "metadata": {},
     "output_type": "execute_result"
    }
   ],
   "source": [
    "s = \"The trouble is you think you have time\"\n",
    "s[0] # indexing at position 0, which is the first char"
   ]
  },
  {
   "cell_type": "code",
   "execution_count": 19,
   "id": "10a08d7c",
   "metadata": {},
   "outputs": [
    {
     "data": {
      "text/plain": [
       "'r'"
      ]
     },
     "execution_count": 19,
     "metadata": {},
     "output_type": "execute_result"
    }
   ],
   "source": [
    "s[5] # indexing at position 5, which is the sixth char"
   ]
  },
  {
   "cell_type": "code",
   "execution_count": 20,
   "id": "25015459",
   "metadata": {},
   "outputs": [
    {
     "data": {
      "text/plain": [
       "'The '"
      ]
     },
     "execution_count": 20,
     "metadata": {},
     "output_type": "execute_result"
    }
   ],
   "source": [
    "s[:4] # slicing, we specify only the stop position "
   ]
  },
  {
   "cell_type": "code",
   "execution_count": null,
   "id": "9468ddda",
   "metadata": {},
   "outputs": [],
   "source": [
    "s[4:] # slicing, we specify only the start position"
   ]
  },
  {
   "cell_type": "code",
   "execution_count": 21,
   "id": "325b5995",
   "metadata": {},
   "outputs": [
    {
     "data": {
      "text/plain": [
       "'e trouble is'"
      ]
     },
     "execution_count": 21,
     "metadata": {},
     "output_type": "execute_result"
    }
   ],
   "source": [
    "s[2:14] # slicing, both start and stop positions "
   ]
  },
  {
   "cell_type": "code",
   "execution_count": 22,
   "id": "51616f28",
   "metadata": {},
   "outputs": [
    {
     "data": {
      "text/plain": [
       "'erb '"
      ]
     },
     "execution_count": 22,
     "metadata": {},
     "output_type": "execute_result"
    }
   ],
   "source": [
    "s[2:14:3] # slicing, start, stop, and step (every 3 chars)"
   ]
  },
  {
   "cell_type": "code",
   "execution_count": null,
   "id": "92005075",
   "metadata": {},
   "outputs": [],
   "source": [
    "s[:] # quick way of making a copy"
   ]
  },
  {
   "cell_type": "code",
   "execution_count": 23,
   "id": "911de759",
   "metadata": {},
   "outputs": [
    {
     "data": {
      "text/plain": [
       "'emit evah uoy kniht uoy si elbuort ehT'"
      ]
     },
     "execution_count": 23,
     "metadata": {},
     "output_type": "execute_result"
    }
   ],
   "source": [
    "s[::-1] # reverse the string"
   ]
  },
  {
   "cell_type": "markdown",
   "id": "2fa20bf2",
   "metadata": {},
   "source": [
    "- Join strings"
   ]
  },
  {
   "cell_type": "code",
   "execution_count": null,
   "id": "4a793fc7",
   "metadata": {},
   "outputs": [],
   "source": [
    "words = ['this', 'is', 'a', 'sentence']\n",
    "words2 = '-'.join(words)\n",
    "print(words2)\n",
    "\n",
    "words3 = ' '.join(words)\n",
    "print(words3)"
   ]
  },
  {
   "cell_type": "code",
   "execution_count": null,
   "id": "17bd982a",
   "metadata": {},
   "outputs": [],
   "source": [
    "my_lst = [1, 2, 3, 4, 5, 6, 7, 8, 9, 10]\n",
    "my_lst_str = ''.join(map(str, my_lst))\n",
    "print(my_lst_str)"
   ]
  },
  {
   "cell_type": "code",
   "execution_count": null,
   "id": "5ad4f4f3",
   "metadata": {},
   "outputs": [],
   "source": [
    "#to add parentheses and commas\n",
    "\",\".join(\"12345\").join((\"(\",\")\"))"
   ]
  },
  {
   "cell_type": "code",
   "execution_count": null,
   "id": "f1272330",
   "metadata": {},
   "outputs": [],
   "source": [
    "#to add parentheses and commas\n",
    "list = [\"(\",\")\"]\n",
    "\",\".join(\"12345\").join(list)"
   ]
  },
  {
   "cell_type": "markdown",
   "id": "5a19f4ec",
   "metadata": {},
   "source": [
    "- String Formatting"
   ]
  },
  {
   "cell_type": "code",
   "execution_count": null,
   "id": "21a01897",
   "metadata": {},
   "outputs": [],
   "source": [
    "greet_old = 'Hello %s!'\n",
    "greet_old % 'Fabrizio'    #this method is deprecated, so don't use it "
   ]
  },
  {
   "cell_type": "code",
   "execution_count": null,
   "id": "927576a1",
   "metadata": {},
   "outputs": [],
   "source": [
    "greet_positional = 'Hello {} {}!'\n",
    "greet_positional.format('Fabrizio', 'Romano')"
   ]
  },
  {
   "cell_type": "code",
   "execution_count": null,
   "id": "9205cb1f",
   "metadata": {},
   "outputs": [],
   "source": [
    "greet_positional_idx = 'This is {0}! {1} loves {0}!'\n",
    "greet_positional_idx.format('Python', 'Fabrizio')"
   ]
  },
  {
   "cell_type": "markdown",
   "id": "9227906a",
   "metadata": {},
   "source": [
    "* Tuples"
   ]
  },
  {
   "cell_type": "code",
   "execution_count": null,
   "id": "f60bb652",
   "metadata": {},
   "outputs": [],
   "source": [
    "t = () # empty tuple\n",
    "type(t)"
   ]
  },
  {
   "cell_type": "code",
   "execution_count": null,
   "id": "e87cfabe",
   "metadata": {},
   "outputs": [],
   "source": [
    "one_element_tuple = (42, ) # you need the comma!\n",
    "three_elements_tuple = (1, 3, 5) #braces are optional here\n",
    "a, b, c = 1, 2, 3 # tuple for multiple assignment\n",
    "a, b, c #implicit typle to print with one instruction"
   ]
  },
  {
   "cell_type": "code",
   "execution_count": null,
   "id": "7c960349",
   "metadata": {},
   "outputs": [],
   "source": [
    "3 in three_elements_tuple # membership test"
   ]
  },
  {
   "cell_type": "markdown",
   "id": "4c9bc420",
   "metadata": {},
   "source": [
    "- Note: The membership operator 'in' can also be used with lists, strings, dictionaries, and, in general with collection and sequence objects"
   ]
  },
  {
   "cell_type": "code",
   "execution_count": null,
   "id": "44af4b60",
   "metadata": {},
   "outputs": [],
   "source": [
    "# One operation that tuple assignment allows us to do is one-line swaps, with no need for a third temporary variable. \n",
    "# Below is an example\n",
    "\n",
    "a, b = 1, 2\n",
    "c = a\n",
    "a = b\n",
    "b = c\n",
    "a, b   # a and b have been swapped"
   ]
  },
  {
   "cell_type": "code",
   "execution_count": 26,
   "id": "7c31dced",
   "metadata": {},
   "outputs": [
    {
     "ename": "TypeError",
     "evalue": "type() takes 1 or 3 arguments",
     "output_type": "error",
     "traceback": [
      "\u001b[1;31m---------------------------------------------------------------------------\u001b[0m",
      "\u001b[1;31mTypeError\u001b[0m                                 Traceback (most recent call last)",
      "Cell \u001b[1;32mIn[26], line 6\u001b[0m\n\u001b[0;32m      4\u001b[0m a, b \u001b[38;5;241m=\u001b[39m b, a\n\u001b[0;32m      5\u001b[0m a, b \n\u001b[1;32m----> 6\u001b[0m \u001b[38;5;28;43mtype\u001b[39;49m\u001b[43m(\u001b[49m\u001b[43ma\u001b[49m\u001b[43m,\u001b[49m\u001b[43m \u001b[49m\u001b[43mb\u001b[49m\u001b[43m)\u001b[49m\n",
      "\u001b[1;31mTypeError\u001b[0m: type() takes 1 or 3 arguments"
     ]
    }
   ],
   "source": [
    "# here is the pythonic way to do this:\n",
    "\n",
    "a, b = 0, 1\n",
    "a, b = b, a\n",
    "a, b \n"
   ]
  },
  {
   "cell_type": "markdown",
   "id": "b6e1ec32",
   "metadata": {},
   "source": [
    "## Mutable Sequences"
   ]
  },
  {
   "cell_type": "markdown",
   "id": "f937c112",
   "metadata": {},
   "source": [
    "- Lists"
   ]
  },
  {
   "cell_type": "code",
   "execution_count": null,
   "id": "b864c37d",
   "metadata": {},
   "outputs": [],
   "source": [
    "[] # empty list"
   ]
  },
  {
   "cell_type": "code",
   "execution_count": null,
   "id": "b9ce6fc7",
   "metadata": {},
   "outputs": [],
   "source": [
    "list() # same as []"
   ]
  },
  {
   "cell_type": "code",
   "execution_count": null,
   "id": "a2882bb1",
   "metadata": {},
   "outputs": [],
   "source": [
    "[1, 2, 3] # as with tuples, items are comma separated"
   ]
  },
  {
   "cell_type": "code",
   "execution_count": null,
   "id": "b6091080",
   "metadata": {},
   "outputs": [],
   "source": [
    "[x + 5 for x in [2, 3, 4]] # python is magic aka this is referred to a list comprehension"
   ]
  },
  {
   "cell_type": "code",
   "execution_count": null,
   "id": "9be89dd1",
   "metadata": {},
   "outputs": [],
   "source": [
    "list((1, 3, 5, 7, 9))  # list from a tuple"
   ]
  },
  {
   "cell_type": "code",
   "execution_count": null,
   "id": "a9628c59",
   "metadata": {},
   "outputs": [],
   "source": [
    "list('hello') # list from a string"
   ]
  },
  {
   "cell_type": "code",
   "execution_count": null,
   "id": "fb79e65a",
   "metadata": {},
   "outputs": [],
   "source": [
    "# Let's explore the main methods lists gift us with in python:\n",
    "\n",
    "a = [1, 2, 1, 3]\n",
    "a.append(13) # we can append anything at the end\n",
    "a"
   ]
  },
  {
   "cell_type": "code",
   "execution_count": null,
   "id": "e5f49fca",
   "metadata": {},
   "outputs": [],
   "source": [
    "a.count(1)  # how many '1' are there in the list?"
   ]
  },
  {
   "cell_type": "code",
   "execution_count": null,
   "id": "57fa19af",
   "metadata": {},
   "outputs": [],
   "source": [
    "a.extend([5,7])  # extend the list by another (or sequence)\n",
    "a"
   ]
  },
  {
   "cell_type": "code",
   "execution_count": null,
   "id": "42597dbe",
   "metadata": {},
   "outputs": [],
   "source": [
    "a.index(13)   # position of '13' in the list (0-based indexing)"
   ]
  },
  {
   "cell_type": "code",
   "execution_count": null,
   "id": "511c7ffe",
   "metadata": {},
   "outputs": [],
   "source": [
    "a.insert(0, 17)   # insert '17' at position 0\n",
    "a"
   ]
  },
  {
   "cell_type": "code",
   "execution_count": null,
   "id": "f168768b",
   "metadata": {},
   "outputs": [],
   "source": [
    "a.pop()   # pop (remove and return) the last element"
   ]
  },
  {
   "cell_type": "code",
   "execution_count": null,
   "id": "eb20a51c",
   "metadata": {},
   "outputs": [],
   "source": [
    "a.pop(3)   # pop element at position 3"
   ]
  },
  {
   "cell_type": "code",
   "execution_count": null,
   "id": "91e0dc61",
   "metadata": {},
   "outputs": [],
   "source": [
    "a"
   ]
  },
  {
   "cell_type": "code",
   "execution_count": null,
   "id": "133ca04c",
   "metadata": {},
   "outputs": [],
   "source": [
    "a.remove(17)   # remove '17' from the list\n",
    "a"
   ]
  },
  {
   "cell_type": "code",
   "execution_count": null,
   "id": "d78b765f",
   "metadata": {},
   "outputs": [],
   "source": [
    "a.reverse()  # reverse the order of the elements in the list\n",
    "a"
   ]
  },
  {
   "cell_type": "code",
   "execution_count": null,
   "id": "32d151c9",
   "metadata": {},
   "outputs": [],
   "source": [
    "a.sort()  # sort the list\n",
    "a"
   ]
  },
  {
   "cell_type": "code",
   "execution_count": null,
   "id": "c1247dfa",
   "metadata": {},
   "outputs": [],
   "source": [
    "a.clear()    # remove all elements from the list\n",
    "a"
   ]
  },
  {
   "cell_type": "code",
   "execution_count": null,
   "id": "23a06f98",
   "metadata": {},
   "outputs": [],
   "source": [
    "# You can extend lists using any sequence type\n",
    "a = list('hello')\n",
    "a"
   ]
  },
  {
   "cell_type": "code",
   "execution_count": null,
   "id": "3b3633eb",
   "metadata": {},
   "outputs": [],
   "source": [
    "a.append(100)  # append 100, hetergeneous type\n",
    "a"
   ]
  },
  {
   "cell_type": "code",
   "execution_count": null,
   "id": "84865b6f",
   "metadata": {},
   "outputs": [],
   "source": [
    "a.extend((1, 2, 3))  # extend using tuple\n",
    "a"
   ]
  },
  {
   "cell_type": "code",
   "execution_count": null,
   "id": "4c1d9912",
   "metadata": {},
   "outputs": [],
   "source": [
    "a.extend('...')  # extend using string\n",
    "a"
   ]
  },
  {
   "cell_type": "code",
   "execution_count": null,
   "id": "b2ee2a51",
   "metadata": {},
   "outputs": [],
   "source": [
    "# Common operations that can be done with lists:\n",
    "a = [1, 3, 5, 7] \n",
    "min(a)  # minimum value in the list"
   ]
  },
  {
   "cell_type": "code",
   "execution_count": null,
   "id": "630b36a0",
   "metadata": {},
   "outputs": [],
   "source": [
    "max(a)  # maximum value in the list"
   ]
  },
  {
   "cell_type": "code",
   "execution_count": null,
   "id": "39295f03",
   "metadata": {},
   "outputs": [],
   "source": [
    "sum(a)  # sum of all values in the list"
   ]
  },
  {
   "cell_type": "code",
   "execution_count": null,
   "id": "26ab2869",
   "metadata": {},
   "outputs": [],
   "source": [
    "len(a)  # number of elements in the list"
   ]
  },
  {
   "cell_type": "code",
   "execution_count": null,
   "id": "71aed893",
   "metadata": {},
   "outputs": [],
   "source": [
    "# example of operator overloading\n",
    "\n",
    "b = [6, 7 , 8]\n",
    "a + b   # '+' with list means concatenation"
   ]
  },
  {
   "cell_type": "code",
   "execution_count": null,
   "id": "a25bc300",
   "metadata": {},
   "outputs": [],
   "source": [
    "# example of operator overloading\n",
    "a * 2  # '*' also has a special meaning"
   ]
  },
  {
   "cell_type": "code",
   "execution_count": null,
   "id": "721f018b",
   "metadata": {},
   "outputs": [],
   "source": [
    "from operator import itemgetter\n",
    "a = [(5, 3), (1, 3), (1, 2), (2, -1), (4, 9)]\n",
    "sorted(a)     # sorts on the first item of the tuple and also on the second if two tuples have the same value for the first"
   ]
  },
  {
   "cell_type": "code",
   "execution_count": null,
   "id": "6e22d30d",
   "metadata": {},
   "outputs": [],
   "source": [
    "sorted(a, key=itemgetter(0))     # sorts only on the first item of the tuple, disregards the second"
   ]
  },
  {
   "cell_type": "code",
   "execution_count": null,
   "id": "ac1fdecb",
   "metadata": {},
   "outputs": [],
   "source": [
    "sorted(a, key=itemgetter(0, 1))  # replicates default sort"
   ]
  },
  {
   "cell_type": "code",
   "execution_count": null,
   "id": "a47a1220",
   "metadata": {},
   "outputs": [],
   "source": [
    "sorted(a, key=itemgetter(1))  # sorts only on the second item in the tuple"
   ]
  },
  {
   "cell_type": "code",
   "execution_count": null,
   "id": "0b9af055",
   "metadata": {},
   "outputs": [],
   "source": [
    "sorted(a, key=itemgetter(1), reverse=True)"
   ]
  },
  {
   "cell_type": "code",
   "execution_count": null,
   "id": "cf66971f",
   "metadata": {},
   "outputs": [],
   "source": [
    "#feature of a list on reassignment to another variable\n",
    "amazon_cart = ['notebooks', 'sunglasses', 'toys', 'grapes']\n",
    "amazon_cart[0] = 'laptop'\n",
    "newcart = amazon_cart \n",
    "newcart[0] = 'gum'  #this will change the item in the list in both newcart and amazon_cart \n",
    "print(newcart)\n",
    "print(amazon_cart)"
   ]
  },
  {
   "cell_type": "code",
   "execution_count": null,
   "id": "891e1279",
   "metadata": {},
   "outputs": [],
   "source": [
    "amazon_cart = ['notebooks', 'sunglasses', 'toys', 'grapes']\n",
    "amazon_cart[0] = 'laptop'\n",
    "newcart = amazon_cart[:] #this will assign items in amazon_cart to newcart without linking the two lists as one\n",
    "newcart[0] = 'gum'\n",
    "print(newcart)\n",
    "print(amazon_cart)"
   ]
  },
  {
   "cell_type": "markdown",
   "id": "71cbff04",
   "metadata": {},
   "source": [
    "## Matrices"
   ]
  },
  {
   "cell_type": "code",
   "execution_count": null,
   "id": "0b48ce96",
   "metadata": {},
   "outputs": [],
   "source": [
    "# Matrix\n",
    "matrix = [[1,2,3], [1,0,1], [0,1,0]]\n",
    "\n",
    "print(matrix[0][1]) # grabs the first item in the list and then the second item within that list."
   ]
  },
  {
   "cell_type": "markdown",
   "id": "bf65fb78",
   "metadata": {},
   "source": [
    "## Custom objects in Python are mutable (unless you code them not to be) ... this is a very important concept in Python"
   ]
  },
  {
   "cell_type": "code",
   "execution_count": null,
   "id": "0421352b",
   "metadata": {},
   "outputs": [],
   "source": [
    "class Person():\n",
    "    def __init__(self, age):\n",
    "        self.age = age\n",
    "        \n",
    "fab = Person(age = 42) \n",
    "fab.age"
   ]
  },
  {
   "cell_type": "code",
   "execution_count": null,
   "id": "2111c832",
   "metadata": {},
   "outputs": [],
   "source": [
    "id(fab)"
   ]
  },
  {
   "cell_type": "code",
   "execution_count": null,
   "id": "2c32135c",
   "metadata": {},
   "outputs": [],
   "source": [
    "id(fab.age)"
   ]
  },
  {
   "cell_type": "code",
   "execution_count": null,
   "id": "e94a8496",
   "metadata": {},
   "outputs": [],
   "source": [
    "fab.age = 25 # I wish!\n",
    "id(fab) # will be the same!"
   ]
  },
  {
   "cell_type": "code",
   "execution_count": null,
   "id": "7c8119d3",
   "metadata": {},
   "outputs": [],
   "source": [
    "id(fab.age) # will be different!"
   ]
  },
  {
   "cell_type": "code",
   "execution_count": null,
   "id": "1a1d492a",
   "metadata": {},
   "outputs": [],
   "source": [
    "type(fab) #type of fab is 'Person'"
   ]
  },
  {
   "cell_type": "markdown",
   "id": "2541ae14",
   "metadata": {},
   "source": [
    " - Here we set up an object 'fab' whose type = 'Person' (a custom class). On creation, the ojbect is give the 'age'of '42'. I am printing it, along with the object 'id', and the ID of 'age' as well. Notice that even after I change 'age' to be '25' the ID of 'fab' stays the same (while the ID of 'age' has changed). "
   ]
  },
  {
   "cell_type": "markdown",
   "id": "79000ae6",
   "metadata": {},
   "source": [
    "## LEGB = Local, Enclosing, Global, and Built-In scopes\n",
    "\n",
    "In simple terms, the idea of scope can be described by 3 general rules:\n",
    "\n",
    "Scope simply means: what variables do I have access to?\n",
    "\n",
    "Scope also refers to access i.e. local, enclosing functions, global, and built-in\n",
    "\n",
    "1. Name assignments will create or change local names by default.\n",
    "2. Name references search (at most) four scopes, these are:\n",
    "    * local\n",
    "    * enclosing functions\n",
    "    * global\n",
    "    * built-in\n",
    "3. Names declared in global and nonlocal statements map assigned names to enclosing module and function scopes.\n",
    "\n",
    "\n",
    "The statement in #2 above can be defined by the LEGB rule.\n",
    "\n",
    "\n",
    "**LEGB Rule:**\n",
    "\n",
    "L: Local — Names assigned in any way within a function (def or lambda), and not declared global in that function.\n",
    "\n",
    "E: Enclosing function locals — Names in the local scope of any and all enclosing functions (def or lambda), from inner to outer.\n",
    "\n",
    "G: Global (module) — Names assigned at the top-level of a module file, or declared global in a def within the file.\n",
    "\n",
    "B: Built-in (Python) — Names preassigned in the built-in names module : open, range, SyntaxError,..."
   ]
  },
  {
   "cell_type": "code",
   "execution_count": null,
   "id": "34cb75f7",
   "metadata": {},
   "outputs": [],
   "source": [
    "#LEGB local, enclosing, global, and built-in\n",
    "x = 25\n",
    "\n",
    "def printer():\n",
    "    x = 50\n",
    "    return x\n",
    "\n",
    "print(25)\n",
    "print(printer()) "
   ]
  },
  {
   "cell_type": "code",
   "execution_count": null,
   "id": "7783103b",
   "metadata": {},
   "outputs": [],
   "source": [
    "#Global\n",
    "name = 'THIS IS A GLOBAL STRING'\n",
    "\n",
    "def greet():\n",
    "    # Enclosing\n",
    "    name = 'Sammy'\n",
    "    \n",
    "    def hello():\n",
    "        print('Hello ' + name)\n",
    "    \n",
    "    hello()\n",
    "    \n",
    "greet()"
   ]
  },
  {
   "cell_type": "code",
   "execution_count": null,
   "id": "2177182a",
   "metadata": {},
   "outputs": [],
   "source": [
    "#Global\n",
    "name = 'THIS IS A GLOBAL STRING'\n",
    "\n",
    "def greet():\n",
    "    # Enclosing\n",
    "    #name = 'Sammy'\n",
    "    \n",
    "    def hello():\n",
    "        print('Hello ' + name)\n",
    "    \n",
    "    hello()\n",
    "    \n",
    "greet()"
   ]
  },
  {
   "cell_type": "code",
   "execution_count": null,
   "id": "593e883c",
   "metadata": {},
   "outputs": [],
   "source": [
    "#Global\n",
    "name = 'THIS IS A GLOBAL STRING'\n",
    "\n",
    "def greet():\n",
    "    # Enclosing\n",
    "    name = 'Sammy'\n",
    "    \n",
    "    def hello():\n",
    "        #Local\n",
    "        name = 'IM LOCAL'\n",
    "        print('Hello ' + name)\n",
    "    \n",
    "    hello()\n",
    "    \n",
    "greet()"
   ]
  },
  {
   "cell_type": "code",
   "execution_count": null,
   "id": "f27e4b28",
   "metadata": {},
   "outputs": [],
   "source": [
    "x = 50\n",
    "\n",
    "def func(x):\n",
    "    print(f'X is {x}')\n",
    "\n",
    "func(x)"
   ]
  },
  {
   "cell_type": "code",
   "execution_count": null,
   "id": "542f8932",
   "metadata": {},
   "outputs": [],
   "source": [
    "x = 50\n",
    "\n",
    "def func(x):\n",
    "    print(f'X is {x}')\n",
    "    \n",
    "    #Local reassignment\n",
    "    x = 200\n",
    "    print(f'I JUST LOCALLY CHANGED X to {x}')\n",
    "func(x)\n",
    "print(x) # didn't change the global space "
   ]
  },
  {
   "cell_type": "code",
   "execution_count": null,
   "id": "ab23548d",
   "metadata": {},
   "outputs": [],
   "source": [
    "x = 50\n",
    "\n",
    "def func():\n",
    "    global x\n",
    "    print(f'X is {x}')\n",
    "    \n",
    "    #Local reassignment\n",
    "    x = 'NEW VALUE'\n",
    "    print(f'I JUST LOCALLY CHANGED X to {x}') "
   ]
  },
  {
   "cell_type": "code",
   "execution_count": null,
   "id": "fbafb8ac",
   "metadata": {},
   "outputs": [],
   "source": [
    "print(x)"
   ]
  },
  {
   "cell_type": "code",
   "execution_count": null,
   "id": "cb7ec307",
   "metadata": {},
   "outputs": [],
   "source": [
    "func()"
   ]
  },
  {
   "cell_type": "code",
   "execution_count": null,
   "id": "90ca28e3",
   "metadata": {},
   "outputs": [],
   "source": [
    "x"
   ]
  },
  {
   "cell_type": "code",
   "execution_count": null,
   "id": "92c3101a",
   "metadata": {},
   "outputs": [],
   "source": [
    "#much cleaner and safer to do this ... i.e. don't use the 'global' keyword\n",
    "x = 50\n",
    "\n",
    "def func(x):\n",
    "    \n",
    "    print(f'X is {x}')\n",
    "    \n",
    "    #Local reassignment\n",
    "    x = 'NEW VALUE'\n",
    "    print(f'I JUST LOCALLY CHANGED X to {x}') \n",
    "    return x"
   ]
  },
  {
   "cell_type": "code",
   "execution_count": null,
   "id": "cb96f995",
   "metadata": {},
   "outputs": [],
   "source": [
    "print(x)"
   ]
  },
  {
   "cell_type": "code",
   "execution_count": null,
   "id": "4deafb88",
   "metadata": {
    "scrolled": true
   },
   "outputs": [],
   "source": [
    "x = func(x)"
   ]
  },
  {
   "cell_type": "code",
   "execution_count": null,
   "id": "891cf7d3",
   "metadata": {},
   "outputs": [],
   "source": [
    "print(x)"
   ]
  },
  {
   "cell_type": "code",
   "execution_count": null,
   "id": "e3ccee62",
   "metadata": {},
   "outputs": [],
   "source": [
    "def local():\n",
    "    m = 9   # indent using 4 spaces\n",
    "    print(m)\n",
    "m = 4\n",
    "print(m)\n",
    "local()"
   ]
  },
  {
   "cell_type": "code",
   "execution_count": null,
   "id": "c266c609",
   "metadata": {},
   "outputs": [],
   "source": [
    "m"
   ]
  },
  {
   "cell_type": "code",
   "execution_count": null,
   "id": "7888f910",
   "metadata": {},
   "outputs": [],
   "source": [
    "def local():\n",
    "    # m doesn't belong to the scope defined by the local function\n",
    "    # so Python will keep looking into the next enclosing scope.\n",
    "    # m is finally found in the global scope\n",
    "    print(m, 'printing from the local scope')\n",
    "\n",
    "m = 5\n",
    "print(m, 'print from the global scope')\n",
    "\n",
    "local()"
   ]
  },
  {
   "cell_type": "code",
   "execution_count": null,
   "id": "d021ae91",
   "metadata": {},
   "outputs": [],
   "source": [
    "def enclosing_func():\n",
    "    m = 13\n",
    "    \n",
    "    def local():\n",
    "        # m doesn't belong to the scope defined by the local \n",
    "        # function so Python will keep looking into the next\n",
    "        # enclosing scope. This time m is found in the enclosing\n",
    "        # scope\n",
    "        print(m, 'printing from the local scope')\n",
    "        \n",
    "    # calling the function local\n",
    "    local()\n",
    "\n",
    "m = 5\n",
    "print(m, 'printing from the global scope')\n",
    "\n",
    "enclosing_func()"
   ]
  },
  {
   "cell_type": "code",
   "execution_count": null,
   "id": "02c8e25b",
   "metadata": {},
   "outputs": [],
   "source": [
    "greet_positional_idx.format('Coffee', 'Fab')"
   ]
  },
  {
   "cell_type": "code",
   "execution_count": null,
   "id": "aa765301",
   "metadata": {},
   "outputs": [],
   "source": [
    "keyword = 'Hello my name is {name} {last_name}'\n",
    "keyword.format(name='Fabrizio', last_name='Romano')"
   ]
  },
  {
   "cell_type": "code",
   "execution_count": null,
   "id": "d0990bcf",
   "metadata": {},
   "outputs": [],
   "source": [
    "name = 'Fab'  #newest method called formatted string literals or f'string literals, preferred way\n",
    "age = 42\n",
    "f\"Hello! My name is {name} and I'm {age}\"  "
   ]
  },
  {
   "cell_type": "code",
   "execution_count": null,
   "id": "9dfcae98",
   "metadata": {},
   "outputs": [],
   "source": [
    "from math import pi\n",
    "f\"No arguing with {pi}, it's irrational...\""
   ]
  },
  {
   "cell_type": "markdown",
   "id": "087ea231",
   "metadata": {},
   "source": [
    "## File I/O"
   ]
  },
  {
   "cell_type": "code",
   "execution_count": null,
   "id": "371275a2",
   "metadata": {},
   "outputs": [],
   "source": [
    "%%writefile myfile.txt\n",
    "Hello this is a text file\n",
    "this is the second line\n",
    "this is the third line"
   ]
  },
  {
   "cell_type": "code",
   "execution_count": null,
   "id": "e51ef2ef",
   "metadata": {},
   "outputs": [],
   "source": [
    "myfile = open(\"myfile.txt\")"
   ]
  },
  {
   "cell_type": "code",
   "execution_count": null,
   "id": "02f17d71",
   "metadata": {},
   "outputs": [],
   "source": [
    "myfile = open(\"whoops_wrong.txt\")"
   ]
  },
  {
   "cell_type": "code",
   "execution_count": null,
   "id": "ac66694d",
   "metadata": {},
   "outputs": [],
   "source": [
    "pwd"
   ]
  },
  {
   "cell_type": "code",
   "execution_count": null,
   "id": "be8d58f5",
   "metadata": {},
   "outputs": [],
   "source": [
    "myfile.read()"
   ]
  },
  {
   "cell_type": "code",
   "execution_count": null,
   "id": "dc0afc09",
   "metadata": {},
   "outputs": [],
   "source": [
    "myfile.read() "
   ]
  },
  {
   "cell_type": "code",
   "execution_count": null,
   "id": "936579e5",
   "metadata": {},
   "outputs": [],
   "source": [
    "myfile.seek(0)"
   ]
  },
  {
   "cell_type": "code",
   "execution_count": null,
   "id": "1e551d75",
   "metadata": {},
   "outputs": [],
   "source": [
    "myfile.read()"
   ]
  },
  {
   "cell_type": "code",
   "execution_count": null,
   "id": "1b6b0e26",
   "metadata": {},
   "outputs": [],
   "source": [
    "myfile.seek(0)"
   ]
  },
  {
   "cell_type": "code",
   "execution_count": null,
   "id": "74bccb91",
   "metadata": {},
   "outputs": [],
   "source": [
    "contents = myfile.read()"
   ]
  },
  {
   "cell_type": "code",
   "execution_count": null,
   "id": "4d47325a",
   "metadata": {},
   "outputs": [],
   "source": [
    "contents"
   ]
  },
  {
   "cell_type": "code",
   "execution_count": null,
   "id": "842efaf7",
   "metadata": {},
   "outputs": [],
   "source": [
    "myfile.seek(0)"
   ]
  },
  {
   "cell_type": "code",
   "execution_count": null,
   "id": "99a9f6b1",
   "metadata": {},
   "outputs": [],
   "source": [
    "myfile.readlines() #grabs a list "
   ]
  },
  {
   "cell_type": "code",
   "execution_count": null,
   "id": "a62d7351",
   "metadata": {},
   "outputs": [],
   "source": [
    "myfile = open(\"C:\\\\Users\\\\wsken\\\\Desktop\\\\Python Practice\\\\Untitled Folder\\\\myfile.txt\")"
   ]
  },
  {
   "cell_type": "code",
   "execution_count": null,
   "id": "6496bd50",
   "metadata": {},
   "outputs": [],
   "source": [
    "myfile.read()"
   ]
  },
  {
   "cell_type": "code",
   "execution_count": null,
   "id": "37448e28",
   "metadata": {},
   "outputs": [],
   "source": [
    "%%writefile myfile2.txt\n",
    "Hello this is a text file\n",
    "this is the second line\n",
    "this is the fourth line"
   ]
  },
  {
   "cell_type": "code",
   "execution_count": null,
   "id": "97949f26",
   "metadata": {},
   "outputs": [],
   "source": [
    "myfile2 = open(\"C:\\\\Users\\\\wsken\\\\Desktop\\\\Python Practice\\\\Untitled Folder\\\\myfile2.txt\")\n",
    "myfile2"
   ]
  },
  {
   "cell_type": "code",
   "execution_count": null,
   "id": "2d5ebe79",
   "metadata": {},
   "outputs": [],
   "source": [
    "myfile2.read()"
   ]
  },
  {
   "cell_type": "code",
   "execution_count": null,
   "id": "8e839cf8",
   "metadata": {},
   "outputs": [],
   "source": [
    "myfile2.close()"
   ]
  },
  {
   "cell_type": "code",
   "execution_count": null,
   "id": "d11e79d3",
   "metadata": {},
   "outputs": [],
   "source": [
    "with open('myfile2.txt') as my_new_file2:              #don't need to close the file\n",
    "    contents = my_new_file2.read()"
   ]
  },
  {
   "cell_type": "code",
   "execution_count": null,
   "id": "f16c4b4f",
   "metadata": {},
   "outputs": [],
   "source": [
    "contents"
   ]
  },
  {
   "cell_type": "code",
   "execution_count": null,
   "id": "695caedc",
   "metadata": {},
   "outputs": [],
   "source": [
    "# Reading, Writing, Appending Modes\n",
    "# mode = 'r' is read only\n",
    "# mode = 'w' is write only (will overwrite files or create new!)\n",
    "# mode = 'a' is append only (will add on to files)\n",
    "# mode = 'r+' is reading and writing\n",
    "# mode = 'w+' is writing and reading (Overwrites existing files to create a new file!)\n",
    "\n",
    "\n",
    "with open(\"myfile.txt\", mode='r') as myfile:  \n",
    "    contents = myfile.read()"
   ]
  },
  {
   "cell_type": "code",
   "execution_count": null,
   "id": "9c0316d9",
   "metadata": {},
   "outputs": [],
   "source": [
    "%%writefile my_new_file.txt\n",
    "ONE ON FIRST\n",
    "TWO ON SECOND\n",
    "THREE ON THIRD"
   ]
  },
  {
   "cell_type": "code",
   "execution_count": null,
   "id": "e0e428c5",
   "metadata": {},
   "outputs": [],
   "source": [
    "with open(\"my_new_file.txt\", mode='r') as f:  \n",
    "    print(f.read())"
   ]
  },
  {
   "cell_type": "code",
   "execution_count": null,
   "id": "83200877",
   "metadata": {},
   "outputs": [],
   "source": [
    "with open(\"my_new_file.txt\", mode='a') as f:\n",
    "    f.write('FOUR ON FOURTH')"
   ]
  },
  {
   "cell_type": "code",
   "execution_count": null,
   "id": "e8f270ea",
   "metadata": {},
   "outputs": [],
   "source": [
    "with open(\"my_new_file.txt\", mode='r') as f:  \n",
    "    print(f.read())"
   ]
  },
  {
   "cell_type": "code",
   "execution_count": null,
   "id": "372c92f1",
   "metadata": {},
   "outputs": [],
   "source": [
    "with open(\"asdfdsfds.txt\", mode = 'w') as f:\n",
    "    f.write(\"I CREATED THIS FILE!\")"
   ]
  },
  {
   "cell_type": "code",
   "execution_count": null,
   "id": "fd470169",
   "metadata": {},
   "outputs": [],
   "source": [
    "with open(\"asdfdsfds.txt\", mode = 'r') as f:\n",
    "    print(f.read())"
   ]
  },
  {
   "cell_type": "markdown",
   "id": "8a4f97fb",
   "metadata": {},
   "source": [
    "## Control Flow\n",
    " - Keywords\n",
    "    - if, elif, else\n",
    "    - Makes use of white space(indentation) and colons\n",
    "  - Syntax of if/else statement\n",
    "    - if 'some_condition':\n",
    "        execute some code\n",
    "    - elif 'some_other_condition':\n",
    "        do something different\n",
    "    - else: \n",
    "        do something else"
   ]
  },
  {
   "cell_type": "code",
   "execution_count": 27,
   "id": "fffbe928",
   "metadata": {},
   "outputs": [
    {
     "name": "stdout",
     "output_type": "stream",
     "text": [
      "It's true!\n"
     ]
    }
   ],
   "source": [
    "if True: \n",
    "    print(\"It's true!\")"
   ]
  },
  {
   "cell_type": "code",
   "execution_count": 28,
   "id": "baa0b287",
   "metadata": {},
   "outputs": [
    {
     "name": "stdout",
     "output_type": "stream",
     "text": [
      "It's true!\n"
     ]
    }
   ],
   "source": [
    "if 3 > 2: \n",
    "    print(\"It's true!\")"
   ]
  },
  {
   "cell_type": "code",
   "execution_count": 29,
   "id": "71d80c0b",
   "metadata": {},
   "outputs": [
    {
     "name": "stdout",
     "output_type": "stream",
     "text": [
      "FEED ME!\n"
     ]
    }
   ],
   "source": [
    "hungry = True\n",
    "\n",
    "if hungry:\n",
    "    print('FEED ME!')"
   ]
  },
  {
   "cell_type": "code",
   "execution_count": 30,
   "id": "c00473b1",
   "metadata": {},
   "outputs": [],
   "source": [
    "hungry = False\n",
    "\n",
    "if hungry:\n",
    "    print('FEED ME!')"
   ]
  },
  {
   "cell_type": "code",
   "execution_count": 31,
   "id": "7bf220af",
   "metadata": {},
   "outputs": [
    {
     "name": "stdout",
     "output_type": "stream",
     "text": [
      "Im not hungry\n"
     ]
    }
   ],
   "source": [
    "hungry = False # a boolean\n",
    "\n",
    "if hungry:\n",
    "    print('FEED ME!')\n",
    "else:\n",
    "    print(\"Im not hungry\")"
   ]
  },
  {
   "cell_type": "code",
   "execution_count": null,
   "id": "dfebdd1a",
   "metadata": {},
   "outputs": [],
   "source": [
    "hungry = True  # a boolean\n",
    "\n",
    "if hungry:\n",
    "    print('FEED ME!')\n",
    "else:\n",
    "    print(\"Im not hungry\")"
   ]
  },
  {
   "cell_type": "code",
   "execution_count": null,
   "id": "cbf9503c",
   "metadata": {},
   "outputs": [],
   "source": [
    "loc = 'Bank'\n",
    "\n",
    "if loc == 'Auto Shop':\n",
    "    print(\"Cars are cool!\")\n",
    "else:\n",
    "    print(\"I do not know much.\")"
   ]
  },
  {
   "cell_type": "code",
   "execution_count": 32,
   "id": "3247d131",
   "metadata": {},
   "outputs": [
    {
     "name": "stdout",
     "output_type": "stream",
     "text": [
      "Money is cool!\n"
     ]
    }
   ],
   "source": [
    "loc = 'Bank'\n",
    "\n",
    "if loc == 'Auto Shop':\n",
    "    print(\"Cars are cool!\")\n",
    "elif loc == 'Bank':\n",
    "    print(\"Money is cool!\")\n",
    "else:\n",
    "    print(\"I do not know much.\")"
   ]
  },
  {
   "cell_type": "code",
   "execution_count": null,
   "id": "4dd4be85",
   "metadata": {},
   "outputs": [],
   "source": [
    "loc = 'Auto Shop'\n",
    "\n",
    "if loc == 'Auto Shop':\n",
    "    print(\"Cars are cool!\")\n",
    "elif loc == 'Bank':\n",
    "    print(\"Money is cool!\")\n",
    "elif loc == 'Store':\n",
    "    print(\"Welcome to the store!\")\n",
    "else:\n",
    "    print(\"I do not know much.\")"
   ]
  },
  {
   "cell_type": "code",
   "execution_count": null,
   "id": "c12b9115",
   "metadata": {},
   "outputs": [],
   "source": [
    "loc = 'Store'\n",
    "\n",
    "if loc == 'Auto Shop':\n",
    "    print(\"Cars are cool!\")\n",
    "elif loc == 'Bank':\n",
    "    print(\"Money is cool!\")\n",
    "elif loc == 'Store':\n",
    "    print(\"Welcome to the store!\")\n",
    "else:\n",
    "    print(\"I do not know much.\")"
   ]
  },
  {
   "cell_type": "code",
   "execution_count": null,
   "id": "b7a4b880",
   "metadata": {},
   "outputs": [],
   "source": [
    "loc = 'Game'\n",
    "\n",
    "if loc == 'Auto Shop':\n",
    "    print(\"Cars are cool!\")\n",
    "elif loc == 'Bank':\n",
    "    print(\"Money is cool!\")\n",
    "elif loc == 'Store':\n",
    "    print(\"Welcome to the store!\")\n",
    "else:\n",
    "    print(\"I do not know much.\")"
   ]
  },
  {
   "cell_type": "code",
   "execution_count": null,
   "id": "4f6724b3",
   "metadata": {},
   "outputs": [],
   "source": [
    "name = 'Sammy'\n",
    "\n",
    "if name == 'Frankie':\n",
    "    print(\"Hello Frankie!\")\n",
    "elif name == 'Sammy':\n",
    "    print(\"Hello Sammy!\")\n",
    "else:\n",
    "    print(\"What is your name?\")"
   ]
  },
  {
   "cell_type": "code",
   "execution_count": null,
   "id": "633624af",
   "metadata": {},
   "outputs": [],
   "source": [
    "name = 'Frankie'\n",
    "\n",
    "if name == 'Frankie':\n",
    "    print(\"Hello Frankie!\")\n",
    "elif name == 'Sammy':\n",
    "    print(\"Hello Sammy!\")\n",
    "else:\n",
    "    print(\"What is your name?\")"
   ]
  },
  {
   "cell_type": "code",
   "execution_count": null,
   "id": "39371943",
   "metadata": {},
   "outputs": [],
   "source": [
    "name = 'Jose'\n",
    "\n",
    "if name == 'Frankie':\n",
    "    print(\"Hello Frankie!\")\n",
    "elif name == 'Sammy':\n",
    "    print(\"Hello Sammy!\")\n",
    "else:\n",
    "    print(\"What is your name?\")"
   ]
  },
  {
   "cell_type": "code",
   "execution_count": 33,
   "id": "ab2f4254",
   "metadata": {},
   "outputs": [
    {
     "name": "stdout",
     "output_type": "stream",
     "text": [
      "1\n",
      "2\n",
      "3\n"
     ]
    }
   ],
   "source": [
    "# For loops are used to iterate over the object i.e. iterate over every character in a string, iterate over every item in \n",
    "# a list, iterate over every key in a dictionary.\n",
    "# Syntax of a loop \n",
    "my_iterable = [1,2,3]\n",
    "for u in my_iterable:\n",
    "    print(u)"
   ]
  },
  {
   "cell_type": "code",
   "execution_count": 34,
   "id": "6ee91473",
   "metadata": {},
   "outputs": [
    {
     "name": "stdout",
     "output_type": "stream",
     "text": [
      "1\n",
      "2\n",
      "3\n",
      "4\n",
      "5\n",
      "6\n",
      "7\n",
      "8\n",
      "9\n",
      "10\n"
     ]
    }
   ],
   "source": [
    "mylist = [1,2,3,4,5,6,7,8,9,10]\n",
    "\n",
    "for num in mylist: \n",
    "    print(num)"
   ]
  },
  {
   "cell_type": "code",
   "execution_count": 36,
   "id": "4744d9fd",
   "metadata": {},
   "outputs": [
    {
     "name": "stdout",
     "output_type": "stream",
     "text": [
      "10\n",
      "10\n",
      "10\n",
      "10\n"
     ]
    }
   ],
   "source": [
    "mylist = [1,2,4,5]\n",
    "\n",
    "for i in mylist:\n",
    "    print(num)"
   ]
  },
  {
   "cell_type": "code",
   "execution_count": null,
   "id": "229b36a9",
   "metadata": {},
   "outputs": [],
   "source": [
    "mylist = [1,2,3,4,5,6,7,8,9,10]\n",
    "\n",
    "# variable name can be whatever you want \n",
    "for jelly in mylist: \n",
    "    print(jelly)"
   ]
  },
  {
   "cell_type": "code",
   "execution_count": null,
   "id": "6e9de5cf",
   "metadata": {},
   "outputs": [],
   "source": [
    "mylist = [1,2,3,4,5,6,7,8,9,10]\n",
    "\n",
    "for num in mylist: \n",
    "    print('Hello')"
   ]
  },
  {
   "cell_type": "code",
   "execution_count": null,
   "id": "62c4fb8c",
   "metadata": {},
   "outputs": [],
   "source": [
    "mylist = [1,2,3,4,5,6,7,8,9,10]\n",
    "\n",
    "for num in mylist: \n",
    "    if num % 2 == 0:\n",
    "        print(num)\n",
    "    else:\n",
    "        print(f'Odd Number: {num}')"
   ]
  },
  {
   "cell_type": "code",
   "execution_count": null,
   "id": "d0db26dd",
   "metadata": {},
   "outputs": [],
   "source": [
    "list_sum = 0\n",
    "\n",
    "for num in mylist:\n",
    "    list_sum = list_sum + num\n",
    "\n",
    "print(list_sum)"
   ]
  },
  {
   "cell_type": "code",
   "execution_count": null,
   "id": "70663721",
   "metadata": {},
   "outputs": [],
   "source": [
    "list_sum = 0\n",
    "\n",
    "# place print statement in the loop to see the step by step results\n",
    "# if you want just the result put print statement outside the loop as in previous cell\n",
    "for num in mylist:\n",
    "    list_sum = list_sum + num\n",
    "\n",
    "    print(list_sum)"
   ]
  },
  {
   "cell_type": "code",
   "execution_count": null,
   "id": "3bb9300f",
   "metadata": {},
   "outputs": [],
   "source": [
    "mystring = 'Hello World'\n",
    "\n",
    "#iterate through a string\n",
    "for letter in mystring:\n",
    "    print(letter)"
   ]
  },
  {
   "cell_type": "code",
   "execution_count": null,
   "id": "118f7c83",
   "metadata": {},
   "outputs": [],
   "source": [
    "#iterate through a string\n",
    "for letter in 'Hello World':\n",
    "    print(letter)"
   ]
  },
  {
   "cell_type": "code",
   "execution_count": null,
   "id": "60ff8f35",
   "metadata": {},
   "outputs": [],
   "source": [
    "#iterate through a string\n",
    "for ghghg in 'Hello World':\n",
    "    print(ghghg)"
   ]
  },
  {
   "cell_type": "code",
   "execution_count": null,
   "id": "cea22955",
   "metadata": {},
   "outputs": [],
   "source": [
    "#iterate something a certain amount of times\n",
    "for _ in 'Hello World':\n",
    "    print('Cool!')"
   ]
  },
  {
   "cell_type": "code",
   "execution_count": 37,
   "id": "6e64dfe8",
   "metadata": {},
   "outputs": [
    {
     "name": "stdout",
     "output_type": "stream",
     "text": [
      "1\n",
      "2\n",
      "3\n"
     ]
    }
   ],
   "source": [
    "tup = (1,2,3)\n",
    "\n",
    "for item in tup:\n",
    "    print(item)"
   ]
  },
  {
   "cell_type": "code",
   "execution_count": 38,
   "id": "7fe93d1f",
   "metadata": {},
   "outputs": [
    {
     "data": {
      "text/plain": [
       "4"
      ]
     },
     "execution_count": 38,
     "metadata": {},
     "output_type": "execute_result"
    }
   ],
   "source": [
    "mylist = [(1,2), (3,4), (5,6), (7,8)]\n",
    "len(mylist)"
   ]
  },
  {
   "cell_type": "code",
   "execution_count": null,
   "id": "7416f750",
   "metadata": {},
   "outputs": [],
   "source": [
    "for item in mylist:\n",
    "    print(item)"
   ]
  },
  {
   "cell_type": "code",
   "execution_count": 39,
   "id": "6aac4c2e",
   "metadata": {},
   "outputs": [
    {
     "name": "stdout",
     "output_type": "stream",
     "text": [
      "1\n",
      "2\n",
      "3\n",
      "4\n",
      "5\n",
      "6\n",
      "7\n",
      "8\n"
     ]
    }
   ],
   "source": [
    "#tuple unpacking\n",
    "\n",
    "for (a,b) in mylist:\n",
    "    print(a)\n",
    "    print(b)"
   ]
  },
  {
   "cell_type": "code",
   "execution_count": null,
   "id": "5da255dc",
   "metadata": {},
   "outputs": [],
   "source": [
    "for a,b in mylist:\n",
    "    print(a)\n",
    "    print(b)"
   ]
  },
  {
   "cell_type": "code",
   "execution_count": 40,
   "id": "05bd0726",
   "metadata": {},
   "outputs": [
    {
     "name": "stdout",
     "output_type": "stream",
     "text": [
      "1\n",
      "3\n",
      "5\n",
      "7\n"
     ]
    }
   ],
   "source": [
    "for a,b in mylist:\n",
    "    print(a)\n",
    "  "
   ]
  },
  {
   "cell_type": "code",
   "execution_count": 41,
   "id": "323b66e9",
   "metadata": {},
   "outputs": [
    {
     "name": "stdout",
     "output_type": "stream",
     "text": [
      "2\n",
      "4\n",
      "6\n",
      "8\n"
     ]
    }
   ],
   "source": [
    "for a,b in mylist:\n",
    "    print(b)\n",
    "  "
   ]
  },
  {
   "cell_type": "code",
   "execution_count": null,
   "id": "7e2700b0",
   "metadata": {},
   "outputs": [],
   "source": [
    "mylist = [(1,2,3), (4,5,6), (7,8,9)]\n",
    "for item in mylist:\n",
    "    print(item)"
   ]
  },
  {
   "cell_type": "code",
   "execution_count": null,
   "id": "a556c48f",
   "metadata": {},
   "outputs": [],
   "source": [
    "for a,b,c in mylist:\n",
    "    print(b)"
   ]
  },
  {
   "cell_type": "code",
   "execution_count": null,
   "id": "e58186a4",
   "metadata": {},
   "outputs": [],
   "source": [
    "for a,b,c in mylist:\n",
    "    print(b + c)"
   ]
  },
  {
   "cell_type": "code",
   "execution_count": null,
   "id": "8c2686f3",
   "metadata": {},
   "outputs": [],
   "source": [
    "d = {'k1':1, 'k2':2, 'k3':3}\n",
    "\n",
    "#only returns key from key:value pair\n",
    "for item in d:\n",
    "    print(item)"
   ]
  },
  {
   "cell_type": "code",
   "execution_count": null,
   "id": "b11cca56",
   "metadata": {},
   "outputs": [],
   "source": [
    "d = {'k1':1, 'k2':2, 'k3':3}\n",
    "\n",
    "#returns the tuple pairs from the dictionary 'd'\n",
    "for item in d.items():\n",
    "    print(item)"
   ]
  },
  {
   "cell_type": "code",
   "execution_count": null,
   "id": "c1c48e41",
   "metadata": {},
   "outputs": [],
   "source": [
    "d = {'k1':1, 'k2':2, 'k3':3}\n",
    "\n",
    "#only value from key:value pair\n",
    "for value in d.values():\n",
    "    print(value)"
   ]
  },
  {
   "cell_type": "code",
   "execution_count": null,
   "id": "e1c062f1",
   "metadata": {},
   "outputs": [],
   "source": [
    "d = {'k1':1, 'k2':2, 'k3':3}\n",
    "\n",
    "#use tuple unpacking to print out only value from key:value pair in dictionary\n",
    "#dictionaries are not ordered so there is no guarantee that you will get values in 'order'\n",
    "for key,value in d.items():\n",
    "    print(value)"
   ]
  },
  {
   "cell_type": "code",
   "execution_count": null,
   "id": "28e72750",
   "metadata": {},
   "outputs": [],
   "source": [
    "#While loops will continue to execute a block of code while some condition remains True\n",
    "# Syntax of a while loop\n",
    "#while some_boolean_condition:\n",
    "    #do something\n",
    "#else:\n",
    "    #do something different\n",
    "\n",
    "x = 0 \n",
    "\n",
    "while x < 5:\n",
    "    print(f'The current value of x is {x}')\n",
    "    x = x + 1"
   ]
  },
  {
   "cell_type": "code",
   "execution_count": null,
   "id": "841a9b43",
   "metadata": {},
   "outputs": [],
   "source": [
    "#Infinite while loop ... will have to reset kernel if you run the code below\n",
    "x = 0 \n",
    "\n",
    "#while x < 5:\n",
    "    #print(f'The current value of x is {x}')"
   ]
  },
  {
   "cell_type": "code",
   "execution_count": null,
   "id": "219ebb86",
   "metadata": {},
   "outputs": [],
   "source": [
    "x = 0 \n",
    "\n",
    "while x < 5:\n",
    "    print(f'The current value of x is {x}')\n",
    "    x += 1\n",
    "else:\n",
    "    print(\"X IS NOT LESS THAN 5\")"
   ]
  },
  {
   "cell_type": "code",
   "execution_count": null,
   "id": "2f68dda9",
   "metadata": {},
   "outputs": [],
   "source": [
    "x = 50 \n",
    "\n",
    "while x < 5:\n",
    "    print(f'The current value of x is {x}')\n",
    "    x += 1\n",
    "else:\n",
    "    print(\"X IS NOT LESS THAN 5\")"
   ]
  },
  {
   "cell_type": "markdown",
   "id": "8808bb5d",
   "metadata": {},
   "source": [
    "- Break, continue, pass\n",
    " - We can use break, continue, and pass statements in our loops to add additional functionality for various cases.\n",
    " - The three statements are defined by:\n",
    "     - break: breaks out of the current closest enclosing loop.\n",
    "     - continue: Goes to the top of the closest enclosing loop.\n",
    "     - pass: Does nothing at all."
   ]
  },
  {
   "cell_type": "code",
   "execution_count": null,
   "id": "5549a28e",
   "metadata": {},
   "outputs": [],
   "source": [
    "x = [1,2,3]\n",
    "\n",
    "for item in x:\n",
    "    #comment\n",
    "\n",
    "print('end of my script')"
   ]
  },
  {
   "cell_type": "code",
   "execution_count": null,
   "id": "a85b8b54",
   "metadata": {},
   "outputs": [],
   "source": [
    "x = [1,2,3]\n",
    "\n",
    "for item in x:\n",
    "    #comment\n",
    "    pass #programmers use pass as a placeholder to avoid syntax errors\n",
    "\n",
    "print('end of my script')"
   ]
  },
  {
   "cell_type": "code",
   "execution_count": null,
   "id": "e811bdd2",
   "metadata": {},
   "outputs": [],
   "source": [
    "mystring = 'Sammy'\n",
    "\n",
    "for letter in mystring:\n",
    "    if letter == 'a':\n",
    "        continue\n",
    "    print(letter)"
   ]
  },
  {
   "cell_type": "code",
   "execution_count": null,
   "id": "76ac8744",
   "metadata": {},
   "outputs": [],
   "source": [
    "mystring = 'Sammy'\n",
    "\n",
    "for letter in mystring:\n",
    "    if letter == 'a':\n",
    "        break\n",
    "    print(letter)"
   ]
  },
  {
   "cell_type": "code",
   "execution_count": null,
   "id": "14b53208",
   "metadata": {},
   "outputs": [],
   "source": [
    "x = 0\n",
    "\n",
    "while x < 5:\n",
    "    print(x)\n",
    "    x +=1"
   ]
  },
  {
   "cell_type": "code",
   "execution_count": null,
   "id": "deaa7f82",
   "metadata": {},
   "outputs": [],
   "source": [
    "x = 0\n",
    "\n",
    "while x < 5:\n",
    "    \n",
    "    if x == 2:\n",
    "        break\n",
    "    print(x)\n",
    "    x +=1"
   ]
  },
  {
   "cell_type": "code",
   "execution_count": null,
   "id": "788ca4e2",
   "metadata": {},
   "outputs": [],
   "source": [
    "#range function\n",
    "\n",
    "for num in range(10):\n",
    "    print(num)"
   ]
  },
  {
   "cell_type": "code",
   "execution_count": null,
   "id": "a179fab8",
   "metadata": {},
   "outputs": [],
   "source": [
    "for num in range(3,10):\n",
    "    print(num)"
   ]
  },
  {
   "cell_type": "code",
   "execution_count": null,
   "id": "74578322",
   "metadata": {},
   "outputs": [],
   "source": [
    "for num in range(3,10,2):\n",
    "    print(num)"
   ]
  },
  {
   "cell_type": "code",
   "execution_count": null,
   "id": "388d4213",
   "metadata": {},
   "outputs": [],
   "source": [
    "for num in range(0,11,2):\n",
    "    print(num)"
   ]
  },
  {
   "cell_type": "code",
   "execution_count": null,
   "id": "8613afb2",
   "metadata": {},
   "outputs": [],
   "source": [
    "list(range(0,11,2))"
   ]
  },
  {
   "cell_type": "code",
   "execution_count": null,
   "id": "76d429fc",
   "metadata": {},
   "outputs": [],
   "source": [
    "index_count = 0 \n",
    "\n",
    "for letter in 'abcde':\n",
    "    print('At index {} the letter is {}'.format(index_count, letter))\n",
    "    index_count += 1"
   ]
  },
  {
   "cell_type": "code",
   "execution_count": null,
   "id": "e004f021",
   "metadata": {},
   "outputs": [],
   "source": [
    "index_count = 0 \n",
    "word = 'abcde'\n",
    "for letter in word:\n",
    "    \n",
    "    print(word[index_count])\n",
    "    index_count += 1"
   ]
  },
  {
   "cell_type": "markdown",
   "id": "2208fa63",
   "metadata": {},
   "source": []
  },
  {
   "cell_type": "code",
   "execution_count": null,
   "id": "55972b19",
   "metadata": {},
   "outputs": [],
   "source": [
    "#enumerate function\n",
    "word = 'abcde'\n",
    "for item in enumerate(word): \n",
    "    print(item)"
   ]
  },
  {
   "cell_type": "code",
   "execution_count": null,
   "id": "6dca2777",
   "metadata": {},
   "outputs": [],
   "source": [
    "#enumerate function\n",
    "word = 'abcde'\n",
    "\n",
    "for index,letter in enumerate(word): \n",
    "    print(index)\n",
    "    print(letter)\n",
    "    print('\\n')"
   ]
  },
  {
   "cell_type": "code",
   "execution_count": null,
   "id": "ec927f51",
   "metadata": {},
   "outputs": [],
   "source": [
    "#zip \n",
    "mylist1 = [1,2,3]\n",
    "mylist2 = ['a','b','c']\n",
    "\n",
    "for item in zip(mylist1,mylist2):\n",
    "    print(item)"
   ]
  },
  {
   "cell_type": "code",
   "execution_count": null,
   "id": "ed67081c",
   "metadata": {},
   "outputs": [],
   "source": [
    "#zip \n",
    "mylist1 = [1,2,3]\n",
    "mylist2 = ['a','b','c']\n",
    "mylist3 = [100,200,300]\n",
    "\n",
    "for item in zip(mylist1,mylist2,mylist3):\n",
    "    print(item)"
   ]
  },
  {
   "cell_type": "code",
   "execution_count": null,
   "id": "877099a0",
   "metadata": {},
   "outputs": [],
   "source": [
    "#zip will ignore extra values i.e.  4, 5, 6\n",
    "mylist1 = [1,2,3,4,5,6]\n",
    "mylist2 = ['a','b','c']\n",
    "mylist3 = [100,200,300]\n",
    "\n",
    "for item in zip(mylist1,mylist2,mylist3):\n",
    "    print(item)"
   ]
  },
  {
   "cell_type": "code",
   "execution_count": null,
   "id": "81753a1f",
   "metadata": {},
   "outputs": [],
   "source": [
    "list(zip(mylist1,mylist2,mylist3))"
   ]
  },
  {
   "cell_type": "code",
   "execution_count": null,
   "id": "f98df154",
   "metadata": {},
   "outputs": [],
   "source": [
    "mylist1 = [1,2,3,4,5,6]\n",
    "mylist2 = ['a','b','c']\n",
    "mylist3 = [100,200,300]\n",
    "\n",
    "for a,b,c in zip(mylist1,mylist2,mylist3):\n",
    "    print(b)"
   ]
  },
  {
   "cell_type": "code",
   "execution_count": null,
   "id": "ca47af20",
   "metadata": {},
   "outputs": [],
   "source": [
    "#In evaluates to boolean\n",
    "'x' in [1,2,3]"
   ]
  },
  {
   "cell_type": "code",
   "execution_count": null,
   "id": "d6f70bf1",
   "metadata": {},
   "outputs": [],
   "source": [
    "'x' in ['x','y','z']"
   ]
  },
  {
   "cell_type": "code",
   "execution_count": null,
   "id": "0f44df5b",
   "metadata": {},
   "outputs": [],
   "source": [
    "'a' in 'a world'"
   ]
  },
  {
   "cell_type": "code",
   "execution_count": null,
   "id": "fb81f1be",
   "metadata": {},
   "outputs": [],
   "source": [
    "'mykey' in {'mykey':345}"
   ]
  },
  {
   "cell_type": "code",
   "execution_count": null,
   "id": "28d3b764",
   "metadata": {},
   "outputs": [],
   "source": [
    "d = {'mykey':345}\n",
    "\n",
    "345 in d.keys()"
   ]
  },
  {
   "cell_type": "code",
   "execution_count": null,
   "id": "b51334aa",
   "metadata": {},
   "outputs": [],
   "source": [
    "#min and max function in python\n",
    "mylist = [10,20,30,40,100]\n",
    "print(min(mylist))\n",
    "max(mylist)"
   ]
  },
  {
   "cell_type": "code",
   "execution_count": null,
   "id": "b82f758c",
   "metadata": {},
   "outputs": [],
   "source": [
    "#Python built in random library\n",
    "from random import shuffle\n",
    "\n",
    "mylist = [1,2,3,4,5,6,7,8,9,10]\n",
    "shuffle(mylist)\n",
    "mylist"
   ]
  },
  {
   "cell_type": "code",
   "execution_count": null,
   "id": "c2429fb6",
   "metadata": {},
   "outputs": [],
   "source": [
    "shuffle(mylist)\n",
    "mylist"
   ]
  },
  {
   "cell_type": "code",
   "execution_count": null,
   "id": "0dea5e54",
   "metadata": {},
   "outputs": [],
   "source": [
    "random_list = shuffle(mylist)\n",
    "type(random_list)"
   ]
  },
  {
   "cell_type": "code",
   "execution_count": null,
   "id": "6677758d",
   "metadata": {},
   "outputs": [],
   "source": [
    "#randint in python\n",
    "from random import randint\n",
    "randint(0,100)"
   ]
  },
  {
   "cell_type": "code",
   "execution_count": null,
   "id": "979c4691",
   "metadata": {},
   "outputs": [],
   "source": [
    "randint(0,100)"
   ]
  },
  {
   "cell_type": "code",
   "execution_count": null,
   "id": "ab50bfa0",
   "metadata": {},
   "outputs": [],
   "source": [
    "mynum = randint(0,10)\n",
    "mynum"
   ]
  },
  {
   "cell_type": "code",
   "execution_count": null,
   "id": "761cda75",
   "metadata": {},
   "outputs": [],
   "source": [
    "#ask for user input\n",
    "input('Enter a number: ')"
   ]
  },
  {
   "cell_type": "code",
   "execution_count": null,
   "id": "68db42bc",
   "metadata": {},
   "outputs": [],
   "source": [
    "result = input('What is your name? ')"
   ]
  },
  {
   "cell_type": "code",
   "execution_count": null,
   "id": "67eeac49",
   "metadata": {},
   "outputs": [],
   "source": [
    "result"
   ]
  },
  {
   "cell_type": "code",
   "execution_count": null,
   "id": "ed8a53a8",
   "metadata": {},
   "outputs": [],
   "source": [
    "# numbers for input are treated as strings\n",
    "result = input('Enter a number: ')"
   ]
  },
  {
   "cell_type": "code",
   "execution_count": null,
   "id": "d741a522",
   "metadata": {},
   "outputs": [],
   "source": [
    "type(result)"
   ]
  },
  {
   "cell_type": "code",
   "execution_count": null,
   "id": "77e14af0",
   "metadata": {},
   "outputs": [],
   "source": [
    "#change type from string to float, need to assign to variable to save\n",
    "float(result)"
   ]
  },
  {
   "cell_type": "code",
   "execution_count": null,
   "id": "57b4c220",
   "metadata": {},
   "outputs": [],
   "source": [
    "type(float(result))"
   ]
  },
  {
   "cell_type": "code",
   "execution_count": null,
   "id": "5180c1aa",
   "metadata": {},
   "outputs": [],
   "source": [
    "#cast in one line\n",
    "result = int(input('Enter a number: '))\n",
    "type(result)"
   ]
  },
  {
   "cell_type": "code",
   "execution_count": null,
   "id": "f60f2224",
   "metadata": {},
   "outputs": [],
   "source": [
    "#list comprehension\n",
    "\n",
    "mystring = 'hello'\n",
    "mylist = []\n",
    "\n",
    "for letter in mystring:\n",
    "    mylist.append(letter)\n",
    "\n",
    "mylist"
   ]
  },
  {
   "cell_type": "code",
   "execution_count": null,
   "id": "a574f958",
   "metadata": {},
   "outputs": [],
   "source": [
    "#one liner in python \n",
    "mylist = [letter for letter in mystring]\n",
    "mylist"
   ]
  },
  {
   "cell_type": "code",
   "execution_count": null,
   "id": "d4d6cb35",
   "metadata": {},
   "outputs": [],
   "source": [
    "mylist = [asdf for asdf in 'wordtwo']\n",
    "mylist"
   ]
  },
  {
   "cell_type": "code",
   "execution_count": null,
   "id": "7a882abf",
   "metadata": {},
   "outputs": [],
   "source": [
    "mylist = [num for num in range(0,11)]\n",
    "mylist"
   ]
  },
  {
   "cell_type": "code",
   "execution_count": null,
   "id": "c9365bf7",
   "metadata": {},
   "outputs": [],
   "source": [
    "mylist = [num**2 for num in range(0,11)]\n",
    "mylist"
   ]
  },
  {
   "cell_type": "code",
   "execution_count": null,
   "id": "d416e1df",
   "metadata": {},
   "outputs": [],
   "source": [
    "mylist = [x for x in range(0,11) if x%2 == 0]\n",
    "mylist"
   ]
  },
  {
   "cell_type": "code",
   "execution_count": null,
   "id": "c38012aa",
   "metadata": {},
   "outputs": [],
   "source": [
    "mylist = [x**2 for x in range(0,11) if x%2 == 0]\n",
    "mylist"
   ]
  },
  {
   "cell_type": "code",
   "execution_count": null,
   "id": "b8340cc0",
   "metadata": {},
   "outputs": [],
   "source": [
    "celsius = [0,10,20,34.5]\n",
    "\n",
    "fahrenheit = [( (9/5)*temp + 32) for temp in celsius]\n",
    "fahrenheit"
   ]
  },
  {
   "cell_type": "code",
   "execution_count": null,
   "id": "4aa8aefb",
   "metadata": {},
   "outputs": [],
   "source": [
    "#for loop rather than one liner, notice values are the same\n",
    "fahrenheit = []\n",
    "\n",
    "for temp in celsius:\n",
    "    fahrenheit.append((9/5)*temp +32)\n",
    "\n",
    "fahrenheit"
   ]
  },
  {
   "cell_type": "code",
   "execution_count": null,
   "id": "9127db18",
   "metadata": {},
   "outputs": [],
   "source": [
    "#ugly one liner\n",
    "results = [x if x%2==0 else 'ODD' for x in range(0,11)]\n",
    "results"
   ]
  },
  {
   "cell_type": "code",
   "execution_count": null,
   "id": "5d54e996",
   "metadata": {},
   "outputs": [],
   "source": [
    "#use regular if else statement instead because it is readable\n",
    "\n",
    "results= []\n",
    "\n",
    "for x in range(0,11):\n",
    "    if x%2==0:\n",
    "        results.append(x)\n",
    "    else:\n",
    "        results.append('ODD')\n",
    "\n",
    "results"
   ]
  },
  {
   "cell_type": "code",
   "execution_count": null,
   "id": "450a5fa3",
   "metadata": {},
   "outputs": [],
   "source": [
    "#nest loops \n",
    "\n",
    "mylist = []\n",
    "for x in [2,4,6]:\n",
    "    for y in [1,10,1000]:\n",
    "        mylist.append(x*y)\n",
    "\n",
    "mylist"
   ]
  },
  {
   "cell_type": "code",
   "execution_count": null,
   "id": "7bebcdc6",
   "metadata": {},
   "outputs": [],
   "source": [
    "#one liner nested loop not as readable\n",
    "mylist = [x*y for x in [2,4,6] for y in [1,10,1000]]\n",
    "mylist"
   ]
  },
  {
   "cell_type": "markdown",
   "id": "d248989d",
   "metadata": {},
   "source": [
    "## Methods in Python"
   ]
  },
  {
   "cell_type": "code",
   "execution_count": null,
   "id": "f08166ac",
   "metadata": {},
   "outputs": [],
   "source": [
    "mylist"
   ]
  },
  {
   "cell_type": "code",
   "execution_count": null,
   "id": "dab2b309",
   "metadata": {},
   "outputs": [],
   "source": [
    "help(mylist.insert)"
   ]
  },
  {
   "cell_type": "code",
   "execution_count": null,
   "id": "e21f2557",
   "metadata": {},
   "outputs": [],
   "source": [
    "mylist.insert(8, 500)"
   ]
  },
  {
   "cell_type": "code",
   "execution_count": null,
   "id": "3209ebd1",
   "metadata": {},
   "outputs": [],
   "source": [
    "mylist"
   ]
  },
  {
   "cell_type": "markdown",
   "id": "21389335",
   "metadata": {},
   "source": [
    "## bin function"
   ]
  },
  {
   "cell_type": "code",
   "execution_count": null,
   "id": "3276798a",
   "metadata": {},
   "outputs": [],
   "source": [
    "5"
   ]
  },
  {
   "cell_type": "code",
   "execution_count": null,
   "id": "f15e25fa",
   "metadata": {},
   "outputs": [],
   "source": [
    "bin(5) #binary representation of the number 5"
   ]
  },
  {
   "cell_type": "code",
   "execution_count": null,
   "id": "81caa7db",
   "metadata": {},
   "outputs": [],
   "source": [
    "int('0b101', 2) #binary representation converted back to integer"
   ]
  },
  {
   "cell_type": "markdown",
   "id": "c451333d",
   "metadata": {},
   "source": [
    "## Augmented Assignment Operator\n"
   ]
  },
  {
   "cell_type": "code",
   "execution_count": null,
   "id": "d272df0d",
   "metadata": {},
   "outputs": [],
   "source": [
    "value = 2\n",
    "value += 5"
   ]
  },
  {
   "cell_type": "code",
   "execution_count": null,
   "id": "d5b8ab5f",
   "metadata": {},
   "outputs": [],
   "source": [
    "value"
   ]
  },
  {
   "cell_type": "code",
   "execution_count": null,
   "id": "010425e5",
   "metadata": {},
   "outputs": [],
   "source": [
    "value = 14\n",
    "value -= 3\n",
    "value"
   ]
  },
  {
   "cell_type": "code",
   "execution_count": null,
   "id": "41af59e4",
   "metadata": {},
   "outputs": [],
   "source": [
    "value = 4\n",
    "value *= 2\n",
    "value"
   ]
  },
  {
   "cell_type": "code",
   "execution_count": null,
   "id": "91bc805e",
   "metadata": {},
   "outputs": [],
   "source": [
    "value = 6\n",
    "value /= 2\n",
    "value"
   ]
  },
  {
   "cell_type": "markdown",
   "id": "2d4b4ce5",
   "metadata": {},
   "source": [
    "## Lambda expressions, Map, and Filter"
   ]
  },
  {
   "cell_type": "code",
   "execution_count": null,
   "id": "88ec682c",
   "metadata": {},
   "outputs": [],
   "source": [
    "def square(num):\n",
    "    return num ** 2"
   ]
  },
  {
   "cell_type": "code",
   "execution_count": null,
   "id": "ea45afe6",
   "metadata": {},
   "outputs": [],
   "source": [
    "my_nums = [1,2,3,4,5]"
   ]
  },
  {
   "cell_type": "code",
   "execution_count": null,
   "id": "109d389b",
   "metadata": {},
   "outputs": [],
   "source": [
    "for item in map(square, my_nums):\n",
    "    print(item)"
   ]
  },
  {
   "cell_type": "code",
   "execution_count": null,
   "id": "52b3b514",
   "metadata": {},
   "outputs": [],
   "source": [
    "list(map(square, my_nums))"
   ]
  },
  {
   "cell_type": "code",
   "execution_count": null,
   "id": "dd633a4c",
   "metadata": {},
   "outputs": [],
   "source": [
    "def splicer(mystring):\n",
    "    if len(mystring)%2 == 0:\n",
    "        return 'EVEN'\n",
    "    else:\n",
    "        return mystring[0]"
   ]
  },
  {
   "cell_type": "code",
   "execution_count": null,
   "id": "5cf2d653",
   "metadata": {},
   "outputs": [],
   "source": [
    "names = ['Andy', 'Eve', 'Sally']"
   ]
  },
  {
   "cell_type": "code",
   "execution_count": null,
   "id": "16cfe381",
   "metadata": {},
   "outputs": [],
   "source": [
    "list(map(splicer, names)) # pass in the function to map as an argument and map will run the function"
   ]
  },
  {
   "cell_type": "code",
   "execution_count": null,
   "id": "764b40f9",
   "metadata": {},
   "outputs": [],
   "source": [
    "def check_even(num):\n",
    "    return num%2 == 0 "
   ]
  },
  {
   "cell_type": "code",
   "execution_count": null,
   "id": "fab62a3c",
   "metadata": {},
   "outputs": [],
   "source": [
    "mynums = [1,2,3,4,5,6]"
   ]
  },
  {
   "cell_type": "code",
   "execution_count": null,
   "id": "e5848343",
   "metadata": {},
   "outputs": [],
   "source": [
    "list(filter(check_even, mynums))"
   ]
  },
  {
   "cell_type": "code",
   "execution_count": null,
   "id": "73e1cdd0",
   "metadata": {},
   "outputs": [],
   "source": [
    "for n in filter(check_even, mynums):\n",
    "    print(n)"
   ]
  },
  {
   "cell_type": "code",
   "execution_count": null,
   "id": "8c54f199",
   "metadata": {},
   "outputs": [],
   "source": [
    "def square(num):\n",
    "    result = num ** 2\n",
    "    return result"
   ]
  },
  {
   "cell_type": "code",
   "execution_count": null,
   "id": "de4ef34b",
   "metadata": {},
   "outputs": [],
   "source": [
    "square(3)"
   ]
  },
  {
   "cell_type": "code",
   "execution_count": null,
   "id": "402ba0cf",
   "metadata": {},
   "outputs": [],
   "source": [
    "# lambda expression aka an anonymouse function ... intended to run one time\n",
    "square = lambda num: num ** 2"
   ]
  },
  {
   "cell_type": "code",
   "execution_count": null,
   "id": "c6368344",
   "metadata": {},
   "outputs": [],
   "source": [
    "square(5)"
   ]
  },
  {
   "cell_type": "code",
   "execution_count": null,
   "id": "7f338de9",
   "metadata": {},
   "outputs": [],
   "source": [
    "# typically use lambda functions in conjunction with map and filter\n",
    "# lambda function with the map function\n",
    "mynums = [1,2,3,4,5,6]\n",
    "list(map(lambda num: num ** 2, mynums))"
   ]
  },
  {
   "cell_type": "code",
   "execution_count": null,
   "id": "88d28b8f",
   "metadata": {},
   "outputs": [],
   "source": [
    "# lambda function with a filter function\n",
    "list(filter(lambda num: num%2 == 0, mynums))"
   ]
  },
  {
   "cell_type": "code",
   "execution_count": null,
   "id": "b27cdf2f",
   "metadata": {},
   "outputs": [],
   "source": [
    "names"
   ]
  },
  {
   "cell_type": "code",
   "execution_count": null,
   "id": "43b4a362",
   "metadata": {},
   "outputs": [],
   "source": [
    "list(map(lambda name:name[0], names)) #grab the first letter of each name"
   ]
  },
  {
   "cell_type": "code",
   "execution_count": null,
   "id": "01c3d7a8",
   "metadata": {},
   "outputs": [],
   "source": [
    "list(map(lambda x:x[0], names))"
   ]
  },
  {
   "cell_type": "code",
   "execution_count": null,
   "id": "2ddcdd90",
   "metadata": {
    "scrolled": true
   },
   "outputs": [],
   "source": [
    "list(map(lambda x:x[::-1], names)) #reverse the names"
   ]
  },
  {
   "cell_type": "markdown",
   "id": "a3d90589",
   "metadata": {},
   "source": [
    "## Simplified toy example of objects and classes using 'bike' as a class"
   ]
  },
  {
   "cell_type": "code",
   "execution_count": null,
   "id": "ea23700e",
   "metadata": {},
   "outputs": [],
   "source": [
    "class Bike:\n",
    "    \n",
    "    def __init__(self, color, frame_material):  # __init__, is an initializer aka a python 'magic method'\n",
    "        self.color = color\n",
    "        self.frame_material = frame_material\n",
    "        \n",
    "    def brake(self):\n",
    "        print(\"Braking!\")\n",
    "        \n",
    "# let's create a couple of instances\n",
    "red_bike = Bike('Red', 'Carbon fiber')\n",
    "blue_bike = Bike('Blue', 'Steel')\n",
    "\n",
    "# let's inspect the objects we have, instances of the Bike class.\n",
    "print(red_bike.color) #prints: Red\n",
    "print(red_bike.frame_material) #prints: Carbon Fiber\n",
    "print(blue_bike.color) #prints: Blue\n",
    "print(blue_bike.frame_material) #prints: Steel\n",
    "\n",
    "# let's brake!\n",
    "red_bike.brake() #prints: Braking!\n",
    "blue_bike.brake() #prints: Braking!"
   ]
  },
  {
   "cell_type": "code",
   "execution_count": null,
   "id": "6f30c5ad",
   "metadata": {},
   "outputs": [],
   "source": [
    "import this"
   ]
  },
  {
   "cell_type": "code",
   "execution_count": null,
   "id": "5ef7dbf8",
   "metadata": {},
   "outputs": [],
   "source": [
    "age = 42\n",
    "age\n",
    "id(age)"
   ]
  },
  {
   "cell_type": "code",
   "execution_count": null,
   "id": "fda9e5d7",
   "metadata": {},
   "outputs": [],
   "source": [
    "age = 43\n",
    "age\n",
    "id(age)"
   ]
  }
 ],
 "metadata": {
  "kernelspec": {
   "display_name": "Python 3 (ipykernel)",
   "language": "python",
   "name": "python3"
  },
  "language_info": {
   "codemirror_mode": {
    "name": "ipython",
    "version": 3
   },
   "file_extension": ".py",
   "mimetype": "text/x-python",
   "name": "python",
   "nbconvert_exporter": "python",
   "pygments_lexer": "ipython3",
   "version": "3.9.13"
  }
 },
 "nbformat": 4,
 "nbformat_minor": 5
}
