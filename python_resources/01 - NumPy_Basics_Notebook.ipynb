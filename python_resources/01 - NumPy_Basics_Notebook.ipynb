{
 "cells": [
  {
   "cell_type": "markdown",
   "id": "252156c3-b13f-45f2-b6c1-623e53e1f188",
   "metadata": {},
   "source": [
    "# Numpy \n",
    "NumPy (Numerical Python) is a powerful open-source library for numerical computing in Python. It provides efficient operations on large, multi-dimensional arrays and matrices, along with a collection of mathematical functions to operate on these data structures. It is written in C and Python and is the foundation for other Python libraries including Pandas, SciPy, TensorFlow, and scikit-learn.\n",
    "\n",
    "Key Abilities of NumPy\n",
    "- Efficient Array Operations → NumPy arrays (ndarray) are much faster and memory-efficient than Python lists.\n",
    "- Broadcasting & Vectorization → Perform operations on entire arrays without writing loops.\n",
    "- Mathematical & Statistical Functions → Supports aggregation (sum, mean, std), linear algebra, random number generation, and more.\n",
    "- Indexing & Slicing → Similar to Python lists but more powerful with multi-dimensional support.\n",
    "- Integration with Other Libraries → Works well with Pandas, Matplotlib, OpenCV, TensorFlow, etc.\n",
    "- Handling Large Datasets → Essential for data science, machine learning, and numerical simulations."
   ]
  },
  {
   "cell_type": "code",
   "execution_count": null,
   "id": "4b0e68e9",
   "metadata": {},
   "outputs": [],
   "source": [
    "import numpy as np"
   ]
  },
  {
   "cell_type": "markdown",
   "id": "ce22ff76-2d10-410a-af8d-483ec013cd7e",
   "metadata": {},
   "source": [
    "# Generating Arrays and Random Sampling in Numpy\n",
    "\n",
    "The followig are some of the useful functions and features in Numpy to generate arrays and random values."
   ]
  },
  {
   "cell_type": "code",
   "execution_count": null,
   "id": "83eead50-edb3-413b-8773-caff1d69011a",
   "metadata": {},
   "outputs": [],
   "source": [
    "#create a list and assign to a variable\n",
    "num_list = [1, 2, 3]\n",
    "num_list"
   ]
  },
  {
   "cell_type": "code",
   "execution_count": null,
   "id": "1bd51e8a-3fdc-4168-9f45-ed577f6376f1",
   "metadata": {},
   "outputs": [],
   "source": [
    "#check the data type of the variable\n",
    "type(num_list)"
   ]
  },
  {
   "cell_type": "code",
   "execution_count": null,
   "id": "0acd85a0-206b-44e5-9d4d-bd1155bff9b4",
   "metadata": {},
   "outputs": [],
   "source": [
    "#convert to a numpy array and assign to a new variable\n",
    "narray = np.array(num_list)\n",
    "print(narray)\n",
    "type(narray)"
   ]
  },
  {
   "cell_type": "code",
   "execution_count": null,
   "id": "a166d285-ab00-4be0-ace2-1de3fff3e7f6",
   "metadata": {},
   "outputs": [],
   "source": [
    "#create a nested list ... note: python does not have matrices but we will use numpy to work around this\n",
    "mat = [[1,2,3],[4,5,6],[7,8,9]]  # 2 brackets in the beginning and the end ... thus a 2-D matrix (x, y dimensions)\n",
    "mat"
   ]
  },
  {
   "cell_type": "code",
   "execution_count": null,
   "id": "904e767b-7482-431e-a4c6-148c746bb58e",
   "metadata": {},
   "outputs": [],
   "source": [
    "mat = np.array(mat)  \n",
    "mat.shape"
   ]
  },
  {
   "cell_type": "code",
   "execution_count": null,
   "id": "34a25453-2646-41d0-8c20-827fb5fe7f7b",
   "metadata": {},
   "outputs": [],
   "source": [
    "# numpy.arange(start, stop, step, dtype=None) \n",
    "np.arange(5, 20)"
   ]
  },
  {
   "cell_type": "code",
   "execution_count": null,
   "id": "7eebaf90-a320-4199-9a70-84a9b2d7b0f5",
   "metadata": {},
   "outputs": [],
   "source": [
    "np.arange(3, 18, 3)"
   ]
  },
  {
   "cell_type": "code",
   "execution_count": null,
   "id": "b72ed344-1527-435c-9106-8be3740c46a4",
   "metadata": {},
   "outputs": [],
   "source": [
    "# Creates a 1-D array of length 4 ... i.e. four 0s\n",
    "np.zeros(4)"
   ]
  },
  {
   "cell_type": "code",
   "execution_count": null,
   "id": "b94c11e0-21b6-4af7-a0df-c8c3b52ae5bf",
   "metadata": {},
   "outputs": [],
   "source": [
    "# Creates a 2-D array, a 4x4 matrix with 0s\n",
    "np.zeros((4, 4))"
   ]
  },
  {
   "cell_type": "code",
   "execution_count": null,
   "id": "277cc777-995d-4ea9-82d7-b0f9a306e2c5",
   "metadata": {},
   "outputs": [],
   "source": [
    "# Creates a 1-D array of length 6  ... i.e. six 1s\n",
    "np.ones(6)"
   ]
  },
  {
   "cell_type": "code",
   "execution_count": null,
   "id": "d34f82c7-a8c2-4ca2-928b-bce9bcee0f01",
   "metadata": {},
   "outputs": [],
   "source": [
    "# Creates a 2-D array, a 2x2 matrix with 1s\n",
    "np.ones((2, 2))"
   ]
  },
  {
   "cell_type": "code",
   "execution_count": null,
   "id": "31de0df9-6ca2-44bd-a9a3-6992390099ae",
   "metadata": {},
   "outputs": [],
   "source": [
    "# numpy enables what's called \"broadcasting\" ... here is an example\n",
    "np.ones((2, 2)) + 10"
   ]
  },
  {
   "cell_type": "code",
   "execution_count": null,
   "id": "21101c5a-0e70-4b65-88e9-fd354e825aed",
   "metadata": {},
   "outputs": [],
   "source": [
    "# this works with multiplication and division as well\n",
    "np.ones((2, 2)) * 25 "
   ]
  },
  {
   "cell_type": "code",
   "execution_count": null,
   "id": "4ee45d0e-eebe-4e9f-9a89-6661a3fa21bc",
   "metadata": {},
   "outputs": [],
   "source": [
    "np.ones((4, 4)) /3"
   ]
  },
  {
   "cell_type": "code",
   "execution_count": null,
   "id": "e18ad001-0885-4ca2-a6aa-dae84051ae59",
   "metadata": {},
   "outputs": [],
   "source": [
    "#combining operations with broadcasting\n",
    "(np.ones((2, 2)) + 10)/2"
   ]
  },
  {
   "cell_type": "code",
   "execution_count": null,
   "id": "2b08a36b-cf2a-4331-ba94-430520f56932",
   "metadata": {},
   "outputs": [],
   "source": [
    "#what if we attempted broadcasting with addition using a base python list?\n",
    "[1, 2, 3, 4] + 10"
   ]
  },
  {
   "cell_type": "code",
   "execution_count": null,
   "id": "0f8bcc10-1656-4e9a-83b0-716c4c092210",
   "metadata": {},
   "outputs": [],
   "source": [
    "#how about multiplication?\n",
    "[1, 2, 3, 4] * 10 "
   ]
  },
  {
   "cell_type": "code",
   "execution_count": null,
   "id": "5b663a26-67ac-4e08-b72f-52d4f1dcf89a",
   "metadata": {},
   "outputs": [],
   "source": [
    "#linspace(start, stop, number of values evenly spaced)\n",
    "np.linspace(5, 15, 4)"
   ]
  },
  {
   "cell_type": "code",
   "execution_count": null,
   "id": "7595b703-a8fe-40e4-8355-8d3338ff0f0b",
   "metadata": {},
   "outputs": [],
   "source": [
    "np.linspace(2, 8, 15)"
   ]
  },
  {
   "cell_type": "code",
   "execution_count": null,
   "id": "0d53bca1-3f5a-4e48-b4d8-52b4afa345da",
   "metadata": {},
   "outputs": [],
   "source": [
    "np.linspace(0, 5, 21)"
   ]
  },
  {
   "cell_type": "code",
   "execution_count": null,
   "id": "a67052f0-1fdd-4fab-ac2f-66ca36b492c0",
   "metadata": {},
   "outputs": [],
   "source": [
    "#numpy.eye(N, M=None, k=0, dtype=float) ... M= number of columns, k=diagonal offset k=0 -> Main Diagonal \n",
    "# k>0 -> above main diagonal, k<0 -> below main diagonal\n",
    "\n",
    "np.eye(3)"
   ]
  },
  {
   "cell_type": "code",
   "execution_count": null,
   "id": "583bcbb2-3a91-4217-912e-aa70107ab5f2",
   "metadata": {},
   "outputs": [],
   "source": [
    "np.eye(3, M=4, k=1)"
   ]
  },
  {
   "cell_type": "code",
   "execution_count": null,
   "id": "81b1e57a-9004-4421-9406-6529ae7ae8ef",
   "metadata": {},
   "outputs": [],
   "source": [
    "#numpy.full(shape, fill_value, dtype=None, order='C', *, device=None, like=None)\n",
    "np.full((3, 3), 7)"
   ]
  },
  {
   "cell_type": "code",
   "execution_count": null,
   "id": "98ad8ecb-990c-4adb-8e45-88c4ef4d43ef",
   "metadata": {},
   "outputs": [],
   "source": [
    "np.full((3, 3), (1, 4, 7))"
   ]
  },
  {
   "cell_type": "code",
   "execution_count": null,
   "id": "2410e88d-f56d-43fc-bf41-48ce0c824f9b",
   "metadata": {},
   "outputs": [],
   "source": [
    "#numpy.random.rand(x1, x2, ..., xn) ... dimensions of the array\n",
    "#this function generates an array of random numbers sampled from the uniform distribution [0,1)\n",
    "np.random.rand(3)"
   ]
  },
  {
   "cell_type": "code",
   "execution_count": null,
   "id": "893eab45-3150-40ba-8d4a-7c79b112f64f",
   "metadata": {},
   "outputs": [],
   "source": [
    "np.random.rand(2,4)"
   ]
  },
  {
   "cell_type": "code",
   "execution_count": null,
   "id": "edb8427a-87dd-4659-8b64-f395eb2375bb",
   "metadata": {},
   "outputs": [],
   "source": [
    "#numpy.random.randn(x1, x2, ..., xn) ... dimensions of the array\n",
    "#this function generates an array of random numbers sampled from the standard normal distribution\n",
    "#with Mean(μ) = 0 and Standard deviation (σ) = 1\n",
    "np.random.randn(3)"
   ]
  },
  {
   "cell_type": "code",
   "execution_count": null,
   "id": "3ecdb94a-59da-45ef-8f96-00bb1b18fa9f",
   "metadata": {},
   "outputs": [],
   "source": [
    "np.random.randn(4,4)"
   ]
  },
  {
   "cell_type": "code",
   "execution_count": null,
   "id": "6e070af5-1ede-4725-92d0-9b86980dcfbe",
   "metadata": {},
   "outputs": [],
   "source": [
    "#numpy.random.normal(loc=0.0, scale=1.0, size=None) loc = μ, scale = σ, size = shape of the output array\n",
    "np.random.normal(4, 5, 20)"
   ]
  },
  {
   "cell_type": "code",
   "execution_count": null,
   "id": "bf329943-2a3c-4027-8e19-ed12d0d1a283",
   "metadata": {
    "scrolled": true
   },
   "outputs": [],
   "source": [
    "np.random.normal(4, 5, (2,2))"
   ]
  },
  {
   "cell_type": "code",
   "execution_count": null,
   "id": "4c5efb04-22f0-4b51-8ca9-1bdd8ddc6bdb",
   "metadata": {},
   "outputs": [],
   "source": [
    "#numpy.random.randint(low, high=None, size=None, dtype=int) ... generates random integers from a specified range. \n",
    "#Default is to return 1 integer, but this is adjusted using the size parameter\n",
    "np.random.randint(1,100)"
   ]
  },
  {
   "cell_type": "code",
   "execution_count": null,
   "id": "91074477-9f5e-4249-b990-cc9eac170bea",
   "metadata": {},
   "outputs": [],
   "source": [
    "np.random.randint(1,100,10)"
   ]
  },
  {
   "cell_type": "code",
   "execution_count": null,
   "id": "a6d667e5-068b-4a08-9f20-a10df7976a3d",
   "metadata": {},
   "outputs": [],
   "source": [
    "#numpy.random.seed() sets a random seed for reproducibility ... useful for machine learning, simulations, and testing\n",
    "#Also useful for debugging by reproducing bugs in stochastic algorithms\n",
    "np.random.seed(42)\n",
    "np.random.rand(4)"
   ]
  },
  {
   "cell_type": "code",
   "execution_count": null,
   "id": "d91c332d-d72b-4fe7-a9de-82c777b7c275",
   "metadata": {},
   "outputs": [],
   "source": [
    "np.random.seed(42)\n",
    "np.random.rand(4)"
   ]
  },
  {
   "cell_type": "code",
   "execution_count": null,
   "id": "da381e45-4538-4c65-a433-b15829313917",
   "metadata": {},
   "outputs": [],
   "source": [
    "#needs to be in the same cell\n",
    "np.random.rand(4) "
   ]
  },
  {
   "cell_type": "code",
   "execution_count": null,
   "id": "1c19be3e-2c87-4b62-87bb-273debb4a2a8",
   "metadata": {},
   "outputs": [],
   "source": [
    "np.random.seed(42)\n",
    "np.random.rand(4)"
   ]
  },
  {
   "cell_type": "markdown",
   "id": "b59ef1ae-8bf8-47a5-a58d-89cfa0b2c94f",
   "metadata": {},
   "source": [
    "# Array Manipulation\n",
    "\n",
    "The following are functions used to reshape, concatenate and modify arrays"
   ]
  },
  {
   "cell_type": "code",
   "execution_count": null,
   "id": "6b4f1b9e-6ede-4043-924c-a4c117b0f7a9",
   "metadata": {},
   "outputs": [],
   "source": [
    "arr = np.arange(25)\n",
    "arr"
   ]
  },
  {
   "cell_type": "code",
   "execution_count": null,
   "id": "edac2d55-5c21-467f-8180-0698cfc24820",
   "metadata": {},
   "outputs": [],
   "source": [
    "arr.reshape(5,5)"
   ]
  },
  {
   "cell_type": "code",
   "execution_count": null,
   "id": "7dc2c352-6554-4f3d-92f9-ec0dc192c47e",
   "metadata": {},
   "outputs": [],
   "source": [
    "#the array size must match the shape \n",
    "arr.reshape(5,2)"
   ]
  },
  {
   "cell_type": "code",
   "execution_count": null,
   "id": "c4a708ad-f0e8-4649-9661-f0a9837c631e",
   "metadata": {},
   "outputs": [],
   "source": [
    "print(arr)\n",
    "arr.shape"
   ]
  },
  {
   "cell_type": "code",
   "execution_count": null,
   "id": "bfe87e75-bece-4131-94c7-ca7fbe730eaa",
   "metadata": {},
   "outputs": [],
   "source": [
    "# Notice the two sets of brackets\n",
    "arr.reshape(1,25)"
   ]
  },
  {
   "cell_type": "code",
   "execution_count": null,
   "id": "db9211a0-347c-4e00-bdf0-b4d61555c229",
   "metadata": {},
   "outputs": [],
   "source": [
    "arr.reshape(1,25).shape"
   ]
  },
  {
   "cell_type": "code",
   "execution_count": null,
   "id": "9dba98fa-7639-4979-bb28-0ace6c11e5be",
   "metadata": {},
   "outputs": [],
   "source": [
    "arr.reshape(25,1)\n",
    "arr.reshape(25,1).shape"
   ]
  },
  {
   "cell_type": "code",
   "execution_count": null,
   "id": "a1255609-1443-4ce4-b8f9-b31b5422b157",
   "metadata": {},
   "outputs": [],
   "source": [
    "arr.dtype"
   ]
  },
  {
   "cell_type": "code",
   "execution_count": null,
   "id": "b31e9eb1-0cda-46a4-a9d7-9c9ae0c70b3d",
   "metadata": {},
   "outputs": [],
   "source": [
    "#numpy array with float values\n",
    "arr2 = np.array([1.2, 3.4, 5.6])\n",
    "arr2.dtype"
   ]
  },
  {
   "cell_type": "code",
   "execution_count": null,
   "id": "8ef0412e-b2c2-4bef-aba9-4128a8ea6195",
   "metadata": {},
   "outputs": [],
   "source": [
    "#Creating sample array\n",
    "arr = np.arange(0,11)\n",
    "arr"
   ]
  },
  {
   "cell_type": "code",
   "execution_count": null,
   "id": "e3e67619-0ecb-4c5a-a783-e898f7b10012",
   "metadata": {},
   "outputs": [],
   "source": [
    "#Get a value at an index\n",
    "arr[8]"
   ]
  },
  {
   "cell_type": "code",
   "execution_count": null,
   "id": "e5d19a72-7d38-48bf-8b02-082d1283413a",
   "metadata": {},
   "outputs": [],
   "source": [
    "#Get values in a range\n",
    "arr[1:5]"
   ]
  },
  {
   "cell_type": "code",
   "execution_count": null,
   "id": "ab9d38f1-c096-4bfc-bac8-ea10d8ee441f",
   "metadata": {},
   "outputs": [],
   "source": [
    "#Get values in a range\n",
    "arr[0:5]"
   ]
  },
  {
   "cell_type": "code",
   "execution_count": null,
   "id": "29c7eb50-8a27-4928-a8f3-c39c5519ffff",
   "metadata": {},
   "outputs": [],
   "source": [
    "arr[:5]"
   ]
  },
  {
   "cell_type": "code",
   "execution_count": null,
   "id": "80be699b-2cef-43d8-a446-529a8cccecf3",
   "metadata": {},
   "outputs": [],
   "source": [
    "arr[:]"
   ]
  },
  {
   "cell_type": "code",
   "execution_count": null,
   "id": "4417c4c4-c9b6-444c-bd0d-a1642274026b",
   "metadata": {},
   "outputs": [],
   "source": [
    "#Setting a value with index range (Broadcasting)\n",
    "arr[0:5]=100\n",
    "arr"
   ]
  },
  {
   "cell_type": "code",
   "execution_count": null,
   "id": "262527c0-9c32-4943-9cc5-72341e8bc0ca",
   "metadata": {},
   "outputs": [],
   "source": [
    "# Reset array, we'll see why I had to reset in  a moment\n",
    "arr = np.arange(0,11)\n",
    "arr"
   ]
  },
  {
   "cell_type": "code",
   "execution_count": null,
   "id": "5701197e-d40a-4738-9210-1324b9202002",
   "metadata": {},
   "outputs": [],
   "source": [
    "#Important notes on Slices\n",
    "slice_arr = arr[0:6]\n",
    "slice_arr"
   ]
  },
  {
   "cell_type": "code",
   "execution_count": null,
   "id": "98b142bf-6379-48d1-a9ee-4bdc62896da6",
   "metadata": {},
   "outputs": [],
   "source": [
    "#Change Slice\n",
    "slice_arr[:]=99\n",
    "slice_arr"
   ]
  },
  {
   "cell_type": "code",
   "execution_count": null,
   "id": "fd190031-70d0-40db-847c-7b41aabd4576",
   "metadata": {},
   "outputs": [],
   "source": [
    "arr"
   ]
  },
  {
   "cell_type": "code",
   "execution_count": null,
   "id": "22a098e3-4112-48cc-a72f-d1f43d9a73a9",
   "metadata": {},
   "outputs": [],
   "source": [
    "#To get a copy, need to be explicit\n",
    "arr_copy = arr.copy()\n",
    "arr_copy"
   ]
  },
  {
   "cell_type": "markdown",
   "id": "7508e24e-07ec-4ed2-9186-e3a90793ff57",
   "metadata": {},
   "source": [
    "# Accessing elements in a multi-dimensional numpy array"
   ]
  },
  {
   "cell_type": "code",
   "execution_count": null,
   "id": "aecbcbf5-ae25-489b-be71-5c7f3d6a2ce5",
   "metadata": {},
   "outputs": [],
   "source": [
    "arr_2d = np.array(([5,10,15],[20,25,30],[35,40,45]))\n",
    "arr_2d"
   ]
  },
  {
   "cell_type": "code",
   "execution_count": null,
   "id": "933c0de0-6cce-40e0-af04-b354f02ee78d",
   "metadata": {},
   "outputs": [],
   "source": [
    "#Indexing row\n",
    "arr_2d[1]"
   ]
  },
  {
   "cell_type": "code",
   "execution_count": null,
   "id": "8cdd01b2-edf4-49c1-8e50-5b978c3d96ab",
   "metadata": {},
   "outputs": [],
   "source": [
    "# Format is arr_2d[row][col] or arr_2d[row,col]\n",
    "# Getting individual element value\n",
    "arr_2d[1][0]"
   ]
  },
  {
   "cell_type": "code",
   "execution_count": null,
   "id": "a72c0cbe-77b3-4cc4-bea6-e7cae9a17506",
   "metadata": {},
   "outputs": [],
   "source": [
    "# 2nd row, 1st col\n",
    "arr_2d[1,0]"
   ]
  },
  {
   "cell_type": "code",
   "execution_count": null,
   "id": "9fb7a9b6-b2f6-4f57-bd9e-101f0b2518cd",
   "metadata": {},
   "outputs": [],
   "source": [
    "# 2D array slicing\n",
    "#(2,2) from top right corner\n",
    "arr_2d[:2,1:]"
   ]
  },
  {
   "cell_type": "code",
   "execution_count": null,
   "id": "74726c82-b91f-4d6d-aa52-d1e22157170c",
   "metadata": {},
   "outputs": [],
   "source": [
    "#The last row\n",
    "arr_2d[2]"
   ]
  },
  {
   "cell_type": "code",
   "execution_count": null,
   "id": "f59ab46f-e066-4adf-844d-f1bd98f52ebf",
   "metadata": {},
   "outputs": [],
   "source": [
    "#Shape bottom row\n",
    "arr_2d[2,:]"
   ]
  },
  {
   "cell_type": "markdown",
   "id": "412a3c4b-d370-46c7-9946-6369f2dba25c",
   "metadata": {},
   "source": [
    "# Mathematical operations"
   ]
  },
  {
   "cell_type": "code",
   "execution_count": null,
   "id": "1788d0f1-9468-4434-a1d2-40b327871f7e",
   "metadata": {},
   "outputs": [],
   "source": [
    "arr = np.arange(1,11)\n",
    "arr"
   ]
  },
  {
   "cell_type": "code",
   "execution_count": null,
   "id": "70412a3e-05d7-4803-9188-73cada536480",
   "metadata": {},
   "outputs": [],
   "source": [
    "arr > 4"
   ]
  },
  {
   "cell_type": "code",
   "execution_count": null,
   "id": "d3b6e71a-a19c-40a2-a0b4-30da93ae638e",
   "metadata": {},
   "outputs": [],
   "source": [
    "bool_arr = arr>4\n",
    "bool_arr"
   ]
  },
  {
   "cell_type": "code",
   "execution_count": null,
   "id": "39a6f442-bed8-4790-aed5-0d27eb2b2e57",
   "metadata": {},
   "outputs": [],
   "source": [
    "arr[bool_arr]"
   ]
  },
  {
   "cell_type": "code",
   "execution_count": null,
   "id": "601457d6-aac9-47b5-9846-f609b8a90611",
   "metadata": {},
   "outputs": [],
   "source": [
    "arr[arr>2]"
   ]
  },
  {
   "cell_type": "code",
   "execution_count": null,
   "id": "be9eb793-cd3b-4962-b15f-8fe399cf140d",
   "metadata": {},
   "outputs": [],
   "source": [
    "arr = np.arange(20)\n",
    "arr"
   ]
  },
  {
   "cell_type": "code",
   "execution_count": null,
   "id": "5c2e9048-541b-4d29-a39d-ac707071c3bd",
   "metadata": {},
   "outputs": [],
   "source": [
    "#addition\n",
    "arr + arr"
   ]
  },
  {
   "cell_type": "code",
   "execution_count": null,
   "id": "df8dc4db-bbf0-49ff-8e57-fe1c1b5bc022",
   "metadata": {},
   "outputs": [],
   "source": [
    "#multiplication\n",
    "arr * arr"
   ]
  },
  {
   "cell_type": "code",
   "execution_count": null,
   "id": "eb96bfff-999a-4d9f-9365-a1f3f8255255",
   "metadata": {},
   "outputs": [],
   "source": [
    "#subtraction\n",
    "arr - arr"
   ]
  },
  {
   "cell_type": "code",
   "execution_count": null,
   "id": "7418b3b5-9c92-4a77-8d3d-ca4ec906ec8f",
   "metadata": {},
   "outputs": [],
   "source": [
    "# This will raise a Warning on division by zero, but not an error!\n",
    "# It just fills the spot with nan\n",
    "arr/arr"
   ]
  },
  {
   "cell_type": "code",
   "execution_count": null,
   "id": "a6b2cf7d-9297-45d8-96d2-31ada85cddd2",
   "metadata": {
    "scrolled": true
   },
   "outputs": [],
   "source": [
    "# Also a warning (but not an error) relating to infinity\n",
    "1/arr"
   ]
  },
  {
   "cell_type": "code",
   "execution_count": null,
   "id": "2430dc51-7d2e-4563-96b0-9a7656cedb84",
   "metadata": {},
   "outputs": [],
   "source": [
    "arr**3"
   ]
  },
  {
   "cell_type": "code",
   "execution_count": null,
   "id": "b18f1a37-371c-46af-99b6-d66af5e83e08",
   "metadata": {},
   "outputs": [],
   "source": [
    "# Taking Square Roots\n",
    "np.sqrt(arr)"
   ]
  },
  {
   "cell_type": "code",
   "execution_count": null,
   "id": "80dd36f3-3a5f-4dc2-b1f2-9365fa2933ea",
   "metadata": {},
   "outputs": [],
   "source": [
    "# Calculating exponential (e^)\n",
    "np.exp(arr)"
   ]
  },
  {
   "cell_type": "code",
   "execution_count": null,
   "id": "a3e58f6e-dfff-407f-bd11-320a3693595d",
   "metadata": {},
   "outputs": [],
   "source": [
    "# Trigonometric Functions like sine\n",
    "np.sin(arr)"
   ]
  },
  {
   "cell_type": "code",
   "execution_count": null,
   "id": "641e862b-15f2-4529-a413-04d87420ef67",
   "metadata": {},
   "outputs": [],
   "source": [
    "# Taking the Natural Logarithm\n",
    "np.log(arr)"
   ]
  },
  {
   "cell_type": "code",
   "execution_count": null,
   "id": "3de04912-70ac-48eb-8b16-dacae286d861",
   "metadata": {},
   "outputs": [],
   "source": [
    "arr = np.arange(5,20)\n",
    "arr"
   ]
  },
  {
   "cell_type": "code",
   "execution_count": null,
   "id": "e6f3759b-221a-44e4-9d64-2d71a5bf1c1f",
   "metadata": {},
   "outputs": [],
   "source": [
    "print(arr.sum())\n",
    "print(arr.mean())"
   ]
  },
  {
   "cell_type": "code",
   "execution_count": null,
   "id": "82c82def-9569-48de-89f2-ec3155303413",
   "metadata": {},
   "outputs": [],
   "source": [
    "arr_2d = np.array([[1,2,3,4],[5,6,7,8],[9,10,11,12]])\n",
    "arr_2d"
   ]
  },
  {
   "cell_type": "code",
   "execution_count": null,
   "id": "df509da0-fe3d-4430-b42e-2de6871f5818",
   "metadata": {},
   "outputs": [],
   "source": [
    "arr_2d.sum(axis=0)\n",
    "arr_2d.shape"
   ]
  },
  {
   "cell_type": "code",
   "execution_count": null,
   "id": "9b94451e-2076-499c-a73c-0c36447f5629",
   "metadata": {},
   "outputs": [],
   "source": [
    "arr2 = np.random.randint(0,50,10)\n",
    "arr2"
   ]
  },
  {
   "cell_type": "code",
   "execution_count": null,
   "id": "d333221c-a4c6-4e6d-bfb2-ae54221e8237",
   "metadata": {},
   "outputs": [],
   "source": [
    "#What do you expect the output to be?\n",
    "arr_2d.sum(axis=1)"
   ]
  },
  {
   "cell_type": "code",
   "execution_count": null,
   "id": "a47109f5-3bbf-4b5b-a898-00b8f22d92ca",
   "metadata": {},
   "outputs": [],
   "source": [
    "#using base python\n",
    "print(arr2.max())\n",
    "print(arr2.argmax()) #returns index location of the max\n",
    "\n",
    "print(arr2.min()) #returns the min value in the array\n",
    "print(arr2.argmin()) #returns index location of the min\n",
    "\n",
    "arr2.dtype"
   ]
  },
  {
   "cell_type": "code",
   "execution_count": null,
   "id": "48ce8bac-9718-4324-846d-34d0367e1e17",
   "metadata": {},
   "outputs": [],
   "source": [
    "#using numpy\n",
    "print(np.max(arr2))\n",
    "print(np.argmax(arr2))\n",
    "print(np.min(arr2))\n",
    "print(np.argmin(arr2))"
   ]
  }
 ],
 "metadata": {
  "kernelspec": {
   "display_name": "Python 3 (ipykernel)",
   "language": "python",
   "name": "python3"
  },
  "language_info": {
   "codemirror_mode": {
    "name": "ipython",
    "version": 3
   },
   "file_extension": ".py",
   "mimetype": "text/x-python",
   "name": "python",
   "nbconvert_exporter": "python",
   "pygments_lexer": "ipython3",
   "version": "3.12.7"
  }
 },
 "nbformat": 4,
 "nbformat_minor": 5
}
